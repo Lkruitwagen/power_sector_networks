{
 "cells": [
  {
   "cell_type": "code",
   "execution_count": 1,
   "metadata": {},
   "outputs": [],
   "source": [
    "import igraph\n",
    "import copy\n",
    "import networkx as nx\n",
    "import numpy as np\n",
    "import pandas as pd\n",
    "from matplotlib import pylab as plt\n",
    "\n",
    "%matplotlib inline"
   ]
  },
  {
   "cell_type": "code",
   "execution_count": null,
   "metadata": {},
   "outputs": [],
   "source": []
  },
  {
   "cell_type": "code",
   "execution_count": 2,
   "metadata": {},
   "outputs": [],
   "source": [
    "path_to_matrices = \"matrix_csvs/\"\n",
    "years = [\"2004\"] + [\"2007\"] + [str(i) for i in range(2014,2018)] #list of all years\n",
    "quarters = [\".0\", \".25\", \".5\", \".75\"] #list of all quarters"
   ]
  },
  {
   "cell_type": "code",
   "execution_count": 3,
   "metadata": {},
   "outputs": [],
   "source": [
    "#Stating period for analisis\n",
    "y_index = -2\n",
    "q_index = 3\n",
    "current_year = years[y_index] + quarters[q_index] #The year and quarter we will do the analisis for\n",
    "\n",
    "#Importing the files needed\n",
    "df_all = pd.read_csv(path_to_matrices + current_year + \"_all_projection.csv\")\n",
    "names = list(df_all.columns[1:]) #Getting names of nodes\n",
    "n_countries = len(names)\n",
    "ADJ_all = np.loadtxt(open(path_to_matrices + current_year + \"_all_projection.csv\", \"rb\"), delimiter=\",\", skiprows=1, \n",
    "           usecols=range(1,n_countries+1)) #getting the adjacency matrix\n",
    "#files are empty\n",
    "#pd.read_csv(path_to_matrices + current_year + \"_blue_projection.csv\")\n",
    "#Adjmat_blue = np.loadtxt(open(path_to_matrices + current_year + \"_blue_projection.csv\", \"rb\"), delimiter=\",\", skiprows=1, \n",
    "           #usecols=range(1,n_countries+1)) #getting the adjacency matrix\n",
    "#Adjmat_green = np.loadtxt(open(path_to_matrices + current_year + \"_green_projection.csv\", \"rb\"), delimiter=\",\", skiprows=1, \n",
    "           #usecols=range(1,n_countries+1)) #getting the adjacency matrix"
   ]
  },
  {
   "cell_type": "markdown",
   "metadata": {},
   "source": [
    "Note, in year 2004 there is hardly little influence between countries. In year 2017 there is more, although still not a lot (think?)"
   ]
  },
  {
   "cell_type": "code",
   "execution_count": 4,
   "metadata": {},
   "outputs": [
    {
     "name": "stdout",
     "output_type": "stream",
     "text": [
      "[ 0.99491988  0.99301802  0.95294638  0.98995231  0.994774    0.9971492   1.\n",
      "  0.99677407  1.          0.99928412  0.96970739  0.98337676  0.96914073\n",
      "  0.98641286  0.97608882  1.          0.99930476  0.96763545  0.9882261\n",
      "  0.97191811  0.94838996  0.9927519   0.975548    0.95498977  0.97227757\n",
      "  0.97827807  0.98269697  0.93501431  0.99624137  0.99678992  0.9995454   1.\n",
      "  0.99623885  1.          0.99962324  0.99972414  0.95482607  0.92687648\n",
      "  0.99978102  0.98821806  0.92520875  0.99821342  0.987664    0.9888254\n",
      "  0.99310432  1.          1.          0.97202202  0.99852459  0.95540232\n",
      "  0.9404247   1.          0.99888933  0.99825003  0.99758154  0.9982448\n",
      "  0.88452098  0.99008067  1.          1.          0.99531338  0.93036645\n",
      "  0.97175656  0.99430773  0.9457979   0.99335935  0.97417429  0.9982804\n",
      "  0.99995183  0.97617505  1.          0.9806443   1.          0.99343412\n",
      "  1.          0.97872674  0.99892541  0.9993448   0.92036482  0.99550292\n",
      "  0.93512529  0.96416178  1.          0.99786191  0.97400536  1.\n",
      "  0.96133902  1.          1.          0.93660573  0.99995268  0.815818\n",
      "  0.99961081  0.99846126  0.9099983   0.96875193  0.97150056  1.          1.\n",
      "  0.98202763  0.99001125  0.99989484  0.98640375  0.99878031  1.\n",
      "  0.98371725  0.97297117  0.79968281  0.99792725  0.9999872   1.\n",
      "  0.96419467  1.          0.99031839  1.          1.          1.\n",
      "  0.98729671  1.          0.92614583  1.          1.          0.87130944\n",
      "  1.          0.89632649  1.          0.84066453  0.97736059  0.94914733\n",
      "  0.99061884  1.          0.85050193  1.          1.          1.          1.\n",
      "  0.95147451  0.99864646  1.          0.96920708  1.          0.99039785\n",
      "  1.          0.92398863  0.96124102  1.          0.99991451  1.          1.\n",
      "  0.96109413  1.          1.          0.97054636  0.64130343  1.\n",
      "  0.95283056  0.92147671  1.          0.79933781  0.99980311  0.99608324\n",
      "  0.99997011  0.92935471  0.99561811  0.99921157  1.          1.\n",
      "  0.98895134  1.          0.96557436  0.30097811  0.99738552  0.90623817\n",
      "  1.          0.9931977   1.          0.96526167  0.99623986  1.\n",
      "  0.98785387  1.          1.          0.87337336  1.          1.          1.\n",
      "  0.99775576  0.74850427  1.          1.          1.          1.          1.\n",
      "  1.          1.          0.84340365  1.          0.94141271  1.          1.\n",
      "  1.          0.97986967  0.99317131  1.          1.          0.98191947\n",
      "  1.          1.          1.          0.99568208  1.          1.          1.\n",
      "  1.          1.          0.89955546  1.          0.27710843  1.          1.\n",
      "  0.87167796  0.99823179  1.          1.          0.9879781   0.9662901 ]\n"
     ]
    },
    {
     "data": {
      "text/plain": [
       "<matplotlib.colorbar.Colorbar at 0x7fca64d71b50>"
      ]
     },
     "execution_count": 4,
     "metadata": {},
     "output_type": "execute_result"
    },
    {
     "data": {
      "image/png": "[encoded data removed]",
      "text/plain": [
       "<matplotlib.figure.Figure at 0x7fca6d6ae6d0>"
      ]
     },
     "metadata": {},
     "output_type": "display_data"
    }
   ],
   "source": [
    "print(np.diagonal(ADJ_all)) #Is this correct? A \"1\" in the diagonal would indicate the country is not influenced\n",
    "#by any other country?\n",
    "plt.imshow(ADJ_all) #Few influence between countries?\n",
    "plt.colorbar()"
   ]
  },
  {
   "cell_type": "code",
   "execution_count": 5,
   "metadata": {},
   "outputs": [
    {
     "data": {
      "text/plain": [
       "array([  9.94919883e-01,   1.87760912e-05,   0.00000000e+00,\n",
       "         0.00000000e+00,   0.00000000e+00,   0.00000000e+00,\n",
       "         0.00000000e+00,   0.00000000e+00,   0.00000000e+00,\n",
       "         0.00000000e+00,   1.83378125e-05,   0.00000000e+00,\n",
       "         0.00000000e+00,   0.00000000e+00,   0.00000000e+00,\n",
       "         0.00000000e+00,   0.00000000e+00,   0.00000000e+00,\n",
       "         2.03177672e-06,   0.00000000e+00,   0.00000000e+00,\n",
       "         0.00000000e+00,   0.00000000e+00,   0.00000000e+00,\n",
       "         0.00000000e+00,   0.00000000e+00,   0.00000000e+00,\n",
       "         0.00000000e+00,   0.00000000e+00,   1.77391143e-05,\n",
       "         0.00000000e+00,   0.00000000e+00,   0.00000000e+00,\n",
       "         0.00000000e+00,   0.00000000e+00,   0.00000000e+00,\n",
       "         0.00000000e+00,   0.00000000e+00,   0.00000000e+00,\n",
       "         0.00000000e+00,   0.00000000e+00,   0.00000000e+00,\n",
       "         0.00000000e+00,   0.00000000e+00,   0.00000000e+00,\n",
       "         0.00000000e+00,   0.00000000e+00,   0.00000000e+00,\n",
       "         0.00000000e+00,   0.00000000e+00,   0.00000000e+00,\n",
       "         0.00000000e+00,   0.00000000e+00,   0.00000000e+00,\n",
       "         0.00000000e+00,   0.00000000e+00,   0.00000000e+00,\n",
       "         0.00000000e+00,   0.00000000e+00,   0.00000000e+00,\n",
       "         0.00000000e+00,   0.00000000e+00,   0.00000000e+00,\n",
       "         0.00000000e+00,   0.00000000e+00,   0.00000000e+00,\n",
       "         0.00000000e+00,   0.00000000e+00,   0.00000000e+00,\n",
       "         0.00000000e+00,   0.00000000e+00,   0.00000000e+00,\n",
       "         0.00000000e+00,   0.00000000e+00,   0.00000000e+00,\n",
       "         0.00000000e+00,   0.00000000e+00,   0.00000000e+00,\n",
       "         0.00000000e+00,   0.00000000e+00,   0.00000000e+00,\n",
       "         0.00000000e+00,   0.00000000e+00,   0.00000000e+00,\n",
       "         0.00000000e+00,   0.00000000e+00,   4.66067382e-03,\n",
       "         0.00000000e+00,   0.00000000e+00,   0.00000000e+00,\n",
       "         0.00000000e+00,   0.00000000e+00,   0.00000000e+00,\n",
       "         0.00000000e+00,   0.00000000e+00,   0.00000000e+00,\n",
       "         0.00000000e+00,   0.00000000e+00,   0.00000000e+00,\n",
       "         0.00000000e+00,   0.00000000e+00,   0.00000000e+00,\n",
       "         0.00000000e+00,   0.00000000e+00,   0.00000000e+00,\n",
       "         0.00000000e+00,   0.00000000e+00,   0.00000000e+00,\n",
       "         0.00000000e+00,   0.00000000e+00,   0.00000000e+00,\n",
       "         0.00000000e+00,   0.00000000e+00,   0.00000000e+00,\n",
       "         0.00000000e+00,   0.00000000e+00,   0.00000000e+00,\n",
       "         0.00000000e+00,   0.00000000e+00,   0.00000000e+00,\n",
       "         0.00000000e+00,   0.00000000e+00,   0.00000000e+00,\n",
       "         0.00000000e+00,   0.00000000e+00,   0.00000000e+00,\n",
       "         0.00000000e+00,   0.00000000e+00,   0.00000000e+00,\n",
       "         0.00000000e+00,   0.00000000e+00,   0.00000000e+00,\n",
       "         0.00000000e+00,   0.00000000e+00,   0.00000000e+00,\n",
       "         0.00000000e+00,   0.00000000e+00,   0.00000000e+00,\n",
       "         0.00000000e+00,   0.00000000e+00,   0.00000000e+00,\n",
       "         0.00000000e+00,   0.00000000e+00,   0.00000000e+00,\n",
       "         0.00000000e+00,   0.00000000e+00,   0.00000000e+00,\n",
       "         0.00000000e+00,   0.00000000e+00,   0.00000000e+00,\n",
       "         0.00000000e+00,   0.00000000e+00,   0.00000000e+00,\n",
       "         0.00000000e+00,   0.00000000e+00,   0.00000000e+00,\n",
       "         0.00000000e+00,   0.00000000e+00,   0.00000000e+00,\n",
       "         0.00000000e+00,   0.00000000e+00,   0.00000000e+00,\n",
       "         0.00000000e+00,   0.00000000e+00,   0.00000000e+00,\n",
       "         0.00000000e+00,   0.00000000e+00,   0.00000000e+00,\n",
       "         0.00000000e+00,   0.00000000e+00,   0.00000000e+00,\n",
       "         0.00000000e+00,   0.00000000e+00,   0.00000000e+00,\n",
       "         0.00000000e+00,   0.00000000e+00,   0.00000000e+00,\n",
       "         0.00000000e+00,   0.00000000e+00,   0.00000000e+00,\n",
       "         0.00000000e+00,   0.00000000e+00,   0.00000000e+00,\n",
       "         0.00000000e+00,   0.00000000e+00,   0.00000000e+00,\n",
       "         0.00000000e+00,   0.00000000e+00,   0.00000000e+00,\n",
       "         0.00000000e+00,   0.00000000e+00,   0.00000000e+00,\n",
       "         0.00000000e+00,   0.00000000e+00,   0.00000000e+00,\n",
       "         0.00000000e+00,   0.00000000e+00,   0.00000000e+00,\n",
       "         0.00000000e+00,   0.00000000e+00,   0.00000000e+00,\n",
       "         0.00000000e+00,   0.00000000e+00,   0.00000000e+00,\n",
       "         0.00000000e+00,   0.00000000e+00,   0.00000000e+00,\n",
       "         0.00000000e+00,   0.00000000e+00,   0.00000000e+00,\n",
       "         0.00000000e+00,   0.00000000e+00,   0.00000000e+00,\n",
       "         0.00000000e+00,   0.00000000e+00,   0.00000000e+00,\n",
       "         0.00000000e+00,   0.00000000e+00,   0.00000000e+00,\n",
       "         0.00000000e+00,   0.00000000e+00,   0.00000000e+00,\n",
       "         0.00000000e+00,   0.00000000e+00,   0.00000000e+00,\n",
       "         0.00000000e+00])"
      ]
     },
     "execution_count": 5,
     "metadata": {},
     "output_type": "execute_result"
    }
   ],
   "source": [
    "#This is an isolated node.\n",
    "ADJ_all[0]"
   ]
  },
  {
   "cell_type": "code",
   "execution_count": 6,
   "metadata": {},
   "outputs": [
    {
     "name": "stdout",
     "output_type": "stream",
     "text": [
      "Small diagonal value\n",
      "170   MF\n",
      "217   GS\n"
     ]
    }
   ],
   "source": [
    "#Only small countries can be influenced?\n",
    "print(\"Small diagonal value\")\n",
    "for i in range(n_countries):\n",
    "    if np.diagonal(ADJ_all)[i] < 0.5:\n",
    "        print i, \" \", names[i]"
   ]
  },
  {
   "cell_type": "code",
   "execution_count": 8,
   "metadata": {},
   "outputs": [
    {
     "data": {
      "text/plain": [
       "[<matplotlib.lines.Line2D at 0x7fca64bbadd0>]"
      ]
     },
     "execution_count": 8,
     "metadata": {},
     "output_type": "execute_result"
    },
    {
     "data": {
      "image/png": "[encoded data removed]",
      "text/plain": [
       "<matplotlib.figure.Figure at 0x7fcab9457110>"
      ]
     },
     "metadata": {},
     "output_type": "display_data"
    }
   ],
   "source": [
    "#PageRank centrality with igraph\n",
    "G_all =  igraph.Graph.Weighted_Adjacency(ADJ_all.tolist() ,mode=\"directed\")\n",
    "pr_all = G_all.personalized_pagerank(weights=G_all.es[\"weight\"], directed=True)\n",
    "names_copy = copy.copy(names)\n",
    "inds = np.array(pr_all).argsort()[::-1][:]\n",
    "sort_names_pr = np.array(names_copy)[inds]\n",
    "sort_centrality_pr = np.array(pr_all)[inds]\n",
    "sort_names_pr, sort_centrality_pr\n",
    "plt.plot(pr_all, \"o\")"
   ]
  },
  {
   "cell_type": "markdown",
   "metadata": {},
   "source": [
    "### Loading matrices and making projections"
   ]
  },
  {
   "cell_type": "code",
   "execution_count": 9,
   "metadata": {},
   "outputs": [
    {
     "ename": "IndexError",
     "evalue": "list index out of range",
     "output_type": "error",
     "traceback": [
      "\u001b[0;31m---------------------------------------------------------------------------\u001b[0m",
      "\u001b[0;31mIndexError\u001b[0m                                Traceback (most recent call last)",
      "\u001b[0;32m<ipython-input-9-839ee953be45>\u001b[0m in \u001b[0;36m<module>\u001b[0;34m()\u001b[0m\n\u001b[1;32m      1\u001b[0m \u001b[0;31m#Extracting bipartite adj mat\u001b[0m\u001b[0;34m\u001b[0m\u001b[0;34m\u001b[0m\u001b[0m\n\u001b[1;32m      2\u001b[0m ADJ_bip_green = np.loadtxt(open(path_to_matrices + current_year + \"_green_MW.csv\", \"rb\"), delimiter=\",\", skiprows=1, \n\u001b[0;32m----> 3\u001b[0;31m            usecols=range(1,n_countries+1)) #getting the adjacency matrix\n\u001b[0m\u001b[1;32m      4\u001b[0m ADJ_bip_blue = np.loadtxt(open(path_to_matrices + current_year + \"_blue_MW.csv\", \"rb\"), delimiter=\",\", skiprows=1, \n\u001b[1;32m      5\u001b[0m            usecols=range(1,n_countries+1)) #getting the adjacency matrix\n",
      "\u001b[0;32m/home/lucaskruitwagen/miniconda3/envs/py2/lib/python2.7/site-packages/numpy/lib/npyio.pyc\u001b[0m in \u001b[0;36mloadtxt\u001b[0;34m(fname, dtype, comments, delimiter, converters, skiprows, usecols, unpack, ndmin)\u001b[0m\n\u001b[1;32m   1015\u001b[0m                 \u001b[0;32mcontinue\u001b[0m\u001b[0;34m\u001b[0m\u001b[0m\n\u001b[1;32m   1016\u001b[0m             \u001b[0;32mif\u001b[0m \u001b[0musecols\u001b[0m\u001b[0;34m:\u001b[0m\u001b[0;34m\u001b[0m\u001b[0m\n\u001b[0;32m-> 1017\u001b[0;31m                 \u001b[0mvals\u001b[0m \u001b[0;34m=\u001b[0m \u001b[0;34m[\u001b[0m\u001b[0mvals\u001b[0m\u001b[0;34m[\u001b[0m\u001b[0mi\u001b[0m\u001b[0;34m]\u001b[0m \u001b[0;32mfor\u001b[0m \u001b[0mi\u001b[0m \u001b[0;32min\u001b[0m \u001b[0musecols\u001b[0m\u001b[0;34m]\u001b[0m\u001b[0;34m\u001b[0m\u001b[0m\n\u001b[0m\u001b[1;32m   1018\u001b[0m             \u001b[0;32mif\u001b[0m \u001b[0mlen\u001b[0m\u001b[0;34m(\u001b[0m\u001b[0mvals\u001b[0m\u001b[0;34m)\u001b[0m \u001b[0;34m!=\u001b[0m \u001b[0mN\u001b[0m\u001b[0;34m:\u001b[0m\u001b[0;34m\u001b[0m\u001b[0m\n\u001b[1;32m   1019\u001b[0m                 \u001b[0mline_num\u001b[0m \u001b[0;34m=\u001b[0m \u001b[0mi\u001b[0m \u001b[0;34m+\u001b[0m \u001b[0mskiprows\u001b[0m \u001b[0;34m+\u001b[0m \u001b[0;36m1\u001b[0m\u001b[0;34m\u001b[0m\u001b[0m\n",
      "\u001b[0;31mIndexError\u001b[0m: list index out of range"
     ]
    }
   ],
   "source": [
    "#Extracting bipartite adj mat\n",
    "ADJ_bip_green = np.loadtxt(open(path_to_matrices + current_year + \"_green_MW.csv\", \"rb\"), delimiter=\",\", skiprows=1, \n",
    "           usecols=range(1,n_countries+1)) #getting the adjacency matrix\n",
    "ADJ_bip_blue = np.loadtxt(open(path_to_matrices + current_year + \"_blue_MW.csv\", \"rb\"), delimiter=\",\", skiprows=1, \n",
    "           usecols=range(1,n_countries+1)) #getting the adjacency matrix\n",
    "#Does the all category include the green and blue or is it just the dirty ones? In principle we would like to have \n",
    "#only the dirty ones, right?\n",
    "ADJ_bip_all = np.loadtxt(open(path_to_matrices + current_year + \"_all_MW.csv\", \"rb\"), delimiter=\",\", skiprows=1, \n",
    "           usecols=range(1,n_countries+1)) \n",
    "#To get the high emission plants we use the all matrix and remove the \"clean\" part\n",
    "ADJ_bip_dirty = ADJ_bip_all - (ADJ_bip_green + ADJ_bip_blue)\n",
    "\n",
    "\n",
    "#Making the company projection\n",
    "ADJ_comp_green =  (ADJ_bip_green/ADJ_bip_green.sum()).dot(ADJ_bip_green.T/(ADJ_bip_green.T.sum()))\n",
    "ADJ_comp_blue =  (ADJ_bip_blue/ADJ_bip_blue.sum()).dot(ADJ_bip_blue.T/(ADJ_bip_blue.T.sum()))\n",
    "ADJ_comp_all =  (ADJ_bip_all/ADJ_bip_all.sum()).dot(ADJ_bip_all.T/(ADJ_bip_all.T.sum()))\n",
    "ADJ_comp_dirty =  (ADJ_bip_dirty /ADJ_bip_dirty .sum()).dot(ADJ_bip_dirty.T/(ADJ_bip_dirty .T.sum()))\n",
    "#Making the country projection\n",
    "ADJ_country_green =  (ADJ_bip_green.T/ADJ_bip_green.T.sum()).dot(ADJ_bip_green/(ADJ_bip_green.sum()))\n",
    "ADJ_country_blue =  (ADJ_bip_blue.T/ADJ_bip_blue.T.sum()).dot(ADJ_bip_blue/(ADJ_bip_blue.sum()))\n",
    "ADJ_country_all =  (ADJ_bip_all.T/ADJ_bip_all.T.sum()).dot(ADJ_bip_all/(ADJ_bip_all.sum()))\n",
    "ADJ_country_dirty =  (ADJ_bip_dirty.T /ADJ_bip_dirty.T .sum()).dot(ADJ_bip_dirty/(ADJ_bip_dirty.sum()))\n",
    "\n",
    "#Getting the percentage of emissions of each type for each country\n",
    "green_part = [sum(ADJ_bip_green[:, i])/sum(ADJ_bip_all[:, i]) for i in range(n_countries)]\n",
    "blue_part = [sum(ADJ_bip_blue[:, i])/sum(ADJ_bip_all[:, i]) for i in range(n_countries)]\n",
    "dirty_part = [sum(ADJ_bip_dirty[:, i])/sum(ADJ_bip_all[:, i]) for i in range(n_countries)]"
   ]
  },
  {
   "cell_type": "markdown",
   "metadata": {},
   "source": [
    "# Multilayer analysis"
   ]
  },
  {
   "cell_type": "code",
   "execution_count": 10,
   "metadata": {},
   "outputs": [],
   "source": [
    "\n",
    "def make_supra_adj(ADJ_list, COUP_list):\n",
    "    \"\"\"Function that takes list of adj matrix and coupling and generates the supra adjacency matrix of the\n",
    "    multiplex network\n",
    "    Args:\n",
    "        ADJ_list: list of numpy 2D array's. Each of them is an adjacency matrix\n",
    "        COUP_list: list of numpy 1D array's. Each of them is the vector to be used for coupling the matrices\n",
    "    Return:\n",
    "        Supra Adjacency matrix. Numpy 2D array.\n",
    "    \"\"\"\n",
    "    n_layers = len(ADJ_list)\n",
    "    n_nodes = ADJ_list[0].shape[0]\n",
    "    \n",
    "    #stacking up adjacency matrix and coupling accordingly\n",
    "    sup_list = []\n",
    "    for i in range(n_layers):\n",
    "        row = []\n",
    "        for j in range(n_layers):\n",
    "            if i == j: #if in diagonal add adjacency matrix\n",
    "                row.append(ADJ_list[i])\n",
    "                #print(ADJ_list[i].shape)\n",
    "            else: #otherwise add the coupling (diagonal since multiplex network)\n",
    "                row.append(np.diag(COUP_list[i])) #if i or j here defined direction of coupling\n",
    "                #print(np.diag(COUP_list[i]).shape)\n",
    "        sup_list.append(row)\n",
    "        \n",
    "    return np.bmat(sup_list)\n",
    "    \n",
    "n_nodes = n_countries\n",
    "n_layers = 3\n",
    "#The following function is taylored for igraph centrality\n",
    "def flatten_centrality(centrality_vector, n=n_nodes, l=n_layers, names=names, hubauth=False):\n",
    "    '''Centrality networks in a Multiplex are commonly expressed as a vector of\n",
    "    nlx1 dimension. To have a centrality for each node it is important to flatten\n",
    "    the vector into nx1 dimension. Also, it is important return a list of ranked\n",
    "    nodes and another of their score.\n",
    "    Args\n",
    "    centrality_vector(numpy array): the centrality measure for each node-layer\n",
    "    n(int): number of nodes\n",
    "    l(int): number of layers\n",
    "    names(list of strings): name of nodes (countries)\n",
    "    hubauth(boolean): indicating if the centrality is hub or authority\n",
    "    Return:\n",
    "    sort_names_multi(list of strings): names of countries ordered by centrality\n",
    "    sort_centrality_multi(list of flots): sorted score of nodes\n",
    "    '''\n",
    "    multi_centrality = []\n",
    "    for i in range(n):\n",
    "        cent = 0\n",
    "        for k in range(l):\n",
    "            cent += centrality_vector[i + n*k]\n",
    "        if hubauth:\n",
    "            multi_centrality.append(cent[0])\n",
    "        else:\n",
    "            multi_centrality.append(cent)\n",
    "    node_names = np.array(copy.deepcopy(names))\n",
    "    inds = np.array(multi_centrality).argsort()[::-1][:]\n",
    "    sort_names_multi = node_names[inds]\n",
    "    sort_centrality_multi = np.array(multi_centrality)[inds]\n",
    "    \n",
    "    return sort_names_multi, sort_centrality_multi    \n"
   ]
  },
  {
   "cell_type": "code",
   "execution_count": 11,
   "metadata": {},
   "outputs": [
    {
     "ename": "NameError",
     "evalue": "name 'ADJ_country_green' is not defined",
     "output_type": "error",
     "traceback": [
      "\u001b[0;31m---------------------------------------------------------------------------\u001b[0m",
      "\u001b[0;31mNameError\u001b[0m                                 Traceback (most recent call last)",
      "\u001b[0;32m<ipython-input-11-4a01aade096c>\u001b[0m in \u001b[0;36m<module>\u001b[0;34m()\u001b[0m\n\u001b[1;32m      1\u001b[0m \u001b[0;31m#Making the supra adjacency matrix\u001b[0m\u001b[0;34m\u001b[0m\u001b[0;34m\u001b[0m\u001b[0m\n\u001b[0;32m----> 2\u001b[0;31m \u001b[0mSUPADJ_country\u001b[0m \u001b[0;34m=\u001b[0m \u001b[0mmake_supra_adj\u001b[0m\u001b[0;34m(\u001b[0m\u001b[0;34m[\u001b[0m\u001b[0mADJ_country_green\u001b[0m\u001b[0;34m,\u001b[0m \u001b[0mADJ_country_blue\u001b[0m\u001b[0;34m,\u001b[0m \u001b[0mADJ_country_dirty\u001b[0m\u001b[0;34m]\u001b[0m\u001b[0;34m,\u001b[0m \u001b[0;34m[\u001b[0m\u001b[0mgreen_part\u001b[0m\u001b[0;34m,\u001b[0m \u001b[0mblue_part\u001b[0m\u001b[0;34m,\u001b[0m \u001b[0mdirty_part\u001b[0m\u001b[0;34m]\u001b[0m\u001b[0;34m)\u001b[0m\u001b[0;34m\u001b[0m\u001b[0m\n\u001b[0m",
      "\u001b[0;31mNameError\u001b[0m: name 'ADJ_country_green' is not defined"
     ]
    }
   ],
   "source": [
    "#Making the supra adjacency matrix\n",
    "SUPADJ_country = make_supra_adj([ADJ_country_green, ADJ_country_blue, ADJ_country_dirty], [green_part, blue_part, dirty_part]) "
   ]
  },
  {
   "cell_type": "code",
   "execution_count": 12,
   "metadata": {},
   "outputs": [
    {
     "ename": "NameError",
     "evalue": "name 'SUPADJ_country' is not defined",
     "output_type": "error",
     "traceback": [
      "\u001b[0;31m---------------------------------------------------------------------------\u001b[0m",
      "\u001b[0;31mNameError\u001b[0m                                 Traceback (most recent call last)",
      "\u001b[0;32m<ipython-input-12-08fc8eacefa9>\u001b[0m in \u001b[0;36m<module>\u001b[0;34m()\u001b[0m\n\u001b[1;32m      1\u001b[0m \u001b[0;31m#making the graph\u001b[0m\u001b[0;34m\u001b[0m\u001b[0;34m\u001b[0m\u001b[0m\n\u001b[0;32m----> 2\u001b[0;31m \u001b[0mG_supra\u001b[0m \u001b[0;34m=\u001b[0m \u001b[0migraph\u001b[0m\u001b[0;34m.\u001b[0m\u001b[0mGraph\u001b[0m\u001b[0;34m.\u001b[0m\u001b[0mWeighted_Adjacency\u001b[0m\u001b[0;34m(\u001b[0m \u001b[0mSUPADJ_country\u001b[0m\u001b[0;34m.\u001b[0m\u001b[0mtolist\u001b[0m\u001b[0;34m(\u001b[0m\u001b[0;34m)\u001b[0m \u001b[0;34m,\u001b[0m\u001b[0mmode\u001b[0m\u001b[0;34m=\u001b[0m\u001b[0;34m\"directed\"\u001b[0m\u001b[0;34m)\u001b[0m\u001b[0;34m\u001b[0m\u001b[0m\n\u001b[0m\u001b[1;32m      3\u001b[0m \u001b[0;31m#computing pagerank\u001b[0m\u001b[0;34m\u001b[0m\u001b[0;34m\u001b[0m\u001b[0m\n\u001b[1;32m      4\u001b[0m \u001b[0mpr_muliplex\u001b[0m \u001b[0;34m=\u001b[0m \u001b[0mG_supra\u001b[0m\u001b[0;34m.\u001b[0m\u001b[0mpersonalized_pagerank\u001b[0m\u001b[0;34m(\u001b[0m\u001b[0mweights\u001b[0m\u001b[0;34m=\u001b[0m\u001b[0mG_supra\u001b[0m\u001b[0;34m.\u001b[0m\u001b[0mes\u001b[0m\u001b[0;34m[\u001b[0m\u001b[0;34m\"weight\"\u001b[0m\u001b[0;34m]\u001b[0m\u001b[0;34m)\u001b[0m\u001b[0;34m\u001b[0m\u001b[0m\n\u001b[1;32m      5\u001b[0m \u001b[0;31m#sorting it appropriately\u001b[0m\u001b[0;34m\u001b[0m\u001b[0;34m\u001b[0m\u001b[0m\n",
      "\u001b[0;31mNameError\u001b[0m: name 'SUPADJ_country' is not defined"
     ]
    }
   ],
   "source": [
    "#making the graph\n",
    "G_supra = igraph.Graph.Weighted_Adjacency( SUPADJ_country.tolist() ,mode=\"directed\") \n",
    "#computing pagerank\n",
    "pr_muliplex = G_supra.personalized_pagerank(weights=G_supra.es[\"weight\"])\n",
    "#sorting it appropriately\n",
    "pr_multiplex_sorted = flatten_centrality(pr_muliplex)"
   ]
  },
  {
   "cell_type": "code",
   "execution_count": 13,
   "metadata": {},
   "outputs": [
    {
     "ename": "NameError",
     "evalue": "name 'pr_multiplex_sorted' is not defined",
     "output_type": "error",
     "traceback": [
      "\u001b[0;31m---------------------------------------------------------------------------\u001b[0m",
      "\u001b[0;31mNameError\u001b[0m                                 Traceback (most recent call last)",
      "\u001b[0;32m<ipython-input-13-b6b7dff2e2be>\u001b[0m in \u001b[0;36m<module>\u001b[0;34m()\u001b[0m\n\u001b[0;32m----> 1\u001b[0;31m \u001b[0mpr_multiplex_sorted\u001b[0m\u001b[0;34m\u001b[0m\u001b[0m\n\u001b[0m",
      "\u001b[0;31mNameError\u001b[0m: name 'pr_multiplex_sorted' is not defined"
     ]
    }
   ],
   "source": [
    "pr_multiplex_sorted"
   ]
  },
  {
   "cell_type": "markdown",
   "metadata": {},
   "source": [
    "Comparing it with the aggregate pagerank centrality"
   ]
  },
  {
   "cell_type": "code",
   "execution_count": 12,
   "metadata": {},
   "outputs": [],
   "source": [
    "G_all =  igraph.Graph.Weighted_Adjacency( ADJ_all.tolist() ,mode=\"directed\")\n",
    "pr_all = G_all.personalized_pagerank(weights=G_all.es[\"weight\"])\n",
    "names_copy = copy.copy(names)\n",
    "inds = np.array(pr_all).argsort()[:]\n",
    "#If small countries are first, try including the [::-1 as below]\n",
    "#inds = np.array(pr_all).argsort()[::-1][:]\n",
    "sort_names_pr = np.array(names_copy)[inds]\n",
    "sort_centrality_pr = np.array(pr_all)[inds]"
   ]
  },
  {
   "cell_type": "code",
   "execution_count": 13,
   "metadata": {},
   "outputs": [
    {
     "data": {
      "text/plain": [
       "(array(['US', 'FR', 'BR', 'MX', 'IN', 'ES', 'PK', 'SA', 'VN', 'CL', 'GB',\n",
       "        'EG', 'CN', 'PT', 'PL', 'DE', 'ZA', 'MM', 'PE', 'CA', 'BD', 'IT',\n",
       "        'RO', 'BG', 'AE', 'RU', 'SE', 'NL', 'KZ', 'OM', 'NO', 'IL', 'ID',\n",
       "        'GH', 'JP', 'CR', 'MY', 'AU', 'TR', 'DZ', 'TJ', 'ME', 'YE', 'NZ',\n",
       "        'LV', 'CU', 'AO', 'CY', 'KP', 'PG', 'EE', 'SI', 'UZ', 'RS', 'LT',\n",
       "        'CD', 'BH', 'IS', 'KW', 'SS', 'TZ', 'CZ', 'SD', 'AL', 'AR', 'TH',\n",
       "        'SY', 'ZM', 'MK', 'CH', 'ET', 'TM', 'IR', 'MZ', 'SK', 'KG', 'MD',\n",
       "        'AT', 'BY', 'NP', 'VE', 'ZW', 'LK', 'TN', 'QA', 'AZ', 'LB', 'TW',\n",
       "        'GR', 'LY', 'IQ', 'PH', 'BA', 'SG', 'NG', 'KR', 'BE', 'CO', 'MA',\n",
       "        'HR', 'FI', 'KE', 'UY', 'UA', 'HU', 'DK', 'GT', 'IE', 'DO', 'LA',\n",
       "        'BT', 'EH', 'JO', 'HT', 'RE', 'GP', 'MQ', 'HN', 'KH', 'PA'], \n",
       "       dtype='|S2'),\n",
       " array([ 0.00208513,  0.00237654,  0.00243707,  0.00262046,  0.00292486,\n",
       "         0.00314372,  0.00330031,  0.00343078,  0.00372804,  0.00380639,\n",
       "         0.00410278,  0.00426366,  0.00444883,  0.00485509,  0.00500361,\n",
       "         0.00512598,  0.00532921,  0.00537063,  0.00593066,  0.00595195,\n",
       "         0.00602613,  0.00666319,  0.00667776,  0.00676237,  0.00725231,\n",
       "         0.00733214,  0.00740549,  0.00751934,  0.00761992,  0.00768537,\n",
       "         0.00798369,  0.00810793,  0.00811446,  0.00814203,  0.00823355,\n",
       "         0.00829766,  0.00829871,  0.00833031,  0.00833146,  0.00833333,\n",
       "         0.00833333,  0.00833333,  0.00833333,  0.00833333,  0.00833333,\n",
       "         0.00833333,  0.00833333,  0.00833333,  0.00833333,  0.00833333,\n",
       "         0.00833333,  0.00833333,  0.00833333,  0.00833333,  0.00833333,\n",
       "         0.00833333,  0.00833333,  0.00833333,  0.00833333,  0.00833333,\n",
       "         0.00833333,  0.00833333,  0.00833333,  0.00833333,  0.00833333,\n",
       "         0.00833333,  0.00833333,  0.00833333,  0.00833333,  0.00833333,\n",
       "         0.00833333,  0.00833333,  0.00833333,  0.00833333,  0.00833333,\n",
       "         0.00833333,  0.00833333,  0.00833333,  0.00833333,  0.00833333,\n",
       "         0.00833333,  0.00833333,  0.00833333,  0.00833333,  0.00833333,\n",
       "         0.00833333,  0.00833333,  0.00833357,  0.00833972,  0.00834024,\n",
       "         0.00834244,  0.00836375,  0.00837183,  0.00838496,  0.00839846,\n",
       "         0.00853772,  0.00861592,  0.00876727,  0.00877396,  0.00881904,\n",
       "         0.00897443,  0.00907096,  0.00916562,  0.00933452,  0.00978096,\n",
       "         0.00981739,  0.0109873 ,  0.01158808,  0.01165359,  0.01197522,\n",
       "         0.0124951 ,  0.01275579,  0.0159747 ,  0.01613262,  0.01656383,\n",
       "         0.01656383,  0.01656383,  0.01713745,  0.01859143,  0.01946497]))"
      ]
     },
     "execution_count": 13,
     "metadata": {},
     "output_type": "execute_result"
    }
   ],
   "source": [
    "sort_names_pr, sort_centrality_pr"
   ]
  },
  {
   "cell_type": "markdown",
   "metadata": {},
   "source": [
    "# Inconsistency between networkx and igraph?\n",
    "I tend to trust igraph more, however the discrepancy might mean that values in general are too close. Perhaps networkx power method is not converging?"
   ]
  },
  {
   "cell_type": "code",
   "execution_count": 14,
   "metadata": {},
   "outputs": [
    {
     "data": {
      "text/plain": [
       "[<matplotlib.lines.Line2D at 0x7f6c470b0090>]"
      ]
     },
     "execution_count": 14,
     "metadata": {},
     "output_type": "execute_result"
    },
    {
     "data": {
      "image/png": "[encoded data removed]",
      "text/plain": [
       "<matplotlib.figure.Figure at 0x7f6c49bde5d0>"
      ]
     },
     "metadata": {},
     "output_type": "display_data"
    }
   ],
   "source": [
    "#PageRank centrality with igraph\n",
    "G_all =  igraph.Graph.Weighted_Adjacency(ADJ_all.tolist() ,mode=\"directed\")\n",
    "pr_all = G_all.personalized_pagerank(weights=G_all.es[\"weight\"], directed=True)\n",
    "names_copy = copy.copy(names)\n",
    "#inds = np.array(pr_all).argsort()[::-1][:]\n",
    "inds = np.array(pr_all).argsort()[:]\n",
    "sort_names_pr = np.array(names_copy)[inds]\n",
    "sort_centrality_pr = np.array(pr_all)[inds]\n",
    "sort_names_pr, sort_centrality_pr\n",
    "\n",
    "#PageRank centrality with networkx\n",
    "G_all_nx = nx.from_numpy_matrix(ADJ_all)\n",
    "pr_all_nx = nx.pagerank(G_all_nx, weight=\"weight\")\n",
    "plt.plot(pr_all_nx.values(), \"o\")\n",
    "plt.plot(pr_all, \".\")"
   ]
  },
  {
   "cell_type": "code",
   "execution_count": 15,
   "metadata": {},
   "outputs": [
    {
     "data": {
      "text/plain": [
       "[<matplotlib.lines.Line2D at 0x7f6c444877d0>]"
      ]
     },
     "execution_count": 15,
     "metadata": {},
     "output_type": "execute_result"
    },
    {
     "data": {
      "image/png": "[encoded data removed]",
      "text/plain": [
       "<matplotlib.figure.Figure at 0x7f6c4704f090>"
      ]
     },
     "metadata": {},
     "output_type": "display_data"
    }
   ],
   "source": [
    "plt.plot(pr_all, pr_all_nx.values(), \"o\")"
   ]
  },
  {
   "cell_type": "code",
   "execution_count": 16,
   "metadata": {},
   "outputs": [
    {
     "name": "stdout",
     "output_type": "stream",
     "text": [
      "0 nx =  BD ig =  US\n",
      "1 nx =  CR ig =  FR\n",
      "2 nx =  JO ig =  BR\n",
      "3 nx =  UY ig =  MX\n",
      "4 nx =  LA ig =  IN\n",
      "5 nx =  CL ig =  ES\n",
      "6 nx =  PT ig =  PK\n",
      "7 nx =  KE ig =  SA\n",
      "8 nx =  PE ig =  VN\n",
      "9 nx =  MX ig =  CL\n",
      "10 nx =  MA ig =  GB\n",
      "11 nx =  SA ig =  EG\n",
      "12 nx =  RE ig =  CN\n",
      "13 nx =  FR ig =  PT\n",
      "14 nx =  OM ig =  PL\n",
      "15 nx =  EG ig =  DE\n",
      "16 nx =  BR ig =  ZA\n",
      "17 nx =  IN ig =  MM\n",
      "18 nx =  GH ig =  PE\n",
      "19 nx =  PK ig =  CA\n",
      "20 nx =  BG ig =  BD\n",
      "21 nx =  ES ig =  IT\n",
      "22 nx =  PL ig =  RO\n",
      "23 nx =  MY ig =  BG\n",
      "24 nx =  VN ig =  AE\n",
      "25 nx =  ZA ig =  RU\n",
      "26 nx =  RO ig =  SE\n",
      "27 nx =  SE ig =  NL\n",
      "28 nx =  AE ig =  KZ\n",
      "29 nx =  DE ig =  OM\n",
      "30 nx =  MM ig =  NO\n",
      "31 nx =  NO ig =  IL\n",
      "32 nx =  CN ig =  ID\n",
      "33 nx =  US ig =  GH\n",
      "34 nx =  GB ig =  JP\n",
      "35 nx =  NL ig =  CR\n",
      "36 nx =  IT ig =  MY\n",
      "37 nx =  HU ig =  AU\n",
      "38 nx =  IL ig =  TR\n",
      "39 nx =  KZ ig =  DZ\n",
      "40 nx =  RU ig =  TJ\n",
      "41 nx =  CO ig =  ME\n",
      "42 nx =  BA ig =  YE\n",
      "43 nx =  ID ig =  NZ\n",
      "44 nx =  TR ig =  LV\n",
      "45 nx =  JP ig =  CU\n",
      "46 nx =  GR ig =  AO\n",
      "47 nx =  SG ig =  CY\n",
      "48 nx =  PH ig =  KP\n",
      "49 nx =  LY ig =  PG\n",
      "50 nx =  IQ ig =  EE\n",
      "51 nx =  ZM ig =  SI\n",
      "52 nx =  MK ig =  UZ\n",
      "53 nx =  SK ig =  RS\n",
      "54 nx =  TN ig =  LT\n",
      "55 nx =  BY ig =  CD\n",
      "56 nx =  AL ig =  BH\n",
      "57 nx =  MZ ig =  IS\n",
      "58 nx =  ME ig =  KW\n",
      "59 nx =  TZ ig =  SS\n",
      "60 nx =  KP ig =  TZ\n",
      "61 nx =  AO ig =  CZ\n",
      "62 nx =  PG ig =  SD\n",
      "63 nx =  RS ig =  AL\n",
      "64 nx =  MD ig =  AR\n",
      "65 nx =  AZ ig =  TH\n",
      "66 nx =  SS ig =  SY\n",
      "67 nx =  KW ig =  ZM\n",
      "68 nx =  IS ig =  MK\n",
      "69 nx =  BH ig =  CH\n",
      "70 nx =  CD ig =  ET\n",
      "71 nx =  LT ig =  TM\n",
      "72 nx =  UZ ig =  IR\n",
      "73 nx =  SI ig =  MZ\n",
      "74 nx =  EE ig =  SK\n",
      "75 nx =  CY ig =  KG\n",
      "76 nx =  DZ ig =  MD\n",
      "77 nx =  TJ ig =  AT\n",
      "78 nx =  YE ig =  BY\n",
      "79 nx =  NZ ig =  NP\n",
      "80 nx =  LV ig =  VE\n",
      "81 nx =  CZ ig =  ZW\n",
      "82 nx =  NP ig =  LK\n",
      "83 nx =  VE ig =  TN\n",
      "84 nx =  LK ig =  QA\n",
      "85 nx =  QA ig =  AZ\n",
      "86 nx =  SD ig =  LB\n",
      "87 nx =  LB ig =  TW\n",
      "88 nx =  AT ig =  GR\n",
      "89 nx =  ZW ig =  LY\n",
      "90 nx =  KG ig =  IQ\n",
      "91 nx =  IR ig =  PH\n",
      "92 nx =  TM ig =  BA\n",
      "93 nx =  ET ig =  SG\n",
      "94 nx =  CH ig =  NG\n",
      "95 nx =  SY ig =  KR\n",
      "96 nx =  TH ig =  BE\n",
      "97 nx =  AR ig =  CO\n",
      "98 nx =  CU ig =  MA\n",
      "99 nx =  TW ig =  HR\n",
      "100 nx =  AU ig =  FI\n",
      "101 nx =  NG ig =  KE\n",
      "102 nx =  HR ig =  UY\n",
      "103 nx =  UA ig =  UA\n",
      "104 nx =  BE ig =  HU\n",
      "105 nx =  KR ig =  DK\n",
      "106 nx =  FI ig =  GT\n",
      "107 nx =  CA ig =  IE\n",
      "108 nx =  DK ig =  DO\n",
      "109 nx =  IE ig =  LA\n",
      "110 nx =  GP ig =  BT\n",
      "111 nx =  BT ig =  EH\n",
      "112 nx =  HT ig =  JO\n",
      "113 nx =  PA ig =  HT\n",
      "114 nx =  KH ig =  RE\n",
      "115 nx =  DO ig =  GP\n",
      "116 nx =  GT ig =  MQ\n",
      "117 nx =  MQ ig =  HN\n",
      "118 nx =  EH ig =  KH\n",
      "119 nx =  HN ig =  PA\n"
     ]
    }
   ],
   "source": [
    "for i in range(n_countries):\n",
    "    print i, \"nx = \", names[sorted(pr_all_nx.items(), key=lambda x:x[1])[::-1][i][0]], \"ig = \", sort_names_pr[i]"
   ]
  },
  {
   "cell_type": "code",
   "execution_count": 66,
   "metadata": {},
   "outputs": [
    {
     "data": {
      "text/plain": [
       "\"def G_list_hub(G_adj_list):\\n    '''\\n    Args(list): list of graphs adjacency matrices\\n    Return(list): list of adjacency matrices to be used in the block diagonal\\n    of the supra adjacency matrix for hub score\\n    '''\\n    G_hub = []\\n    for g in G_adj_list:\\n        new = np.dot(g, g.transpose())\\n        G_hub.append(new)\\n    return G_hub\\n\\ndef G_list_auth(G_adj_list):\\n    '''\\n    Args(list): list of graphs adjacency matrices\\n    Return(list): list of adjacency matrices to be used in the block diagonal\\n    of the supra adjacency matrix for auth score\\n    '''\\n    G_auth = []\\n    for g in G_adj_list:\\n        new = np.dot( g.transpose(), g)\\n        G_auth.append(new)\\n    return G_auth\\n\\ndef hub_auth_diag(Coup_list):\\n    coup = []\\n    for c in Coup_list:\\n        coup.append(c*c)\\n    return coup\""
      ]
     },
     "execution_count": 66,
     "metadata": {},
     "output_type": "execute_result"
    }
   ],
   "source": [
    "#If we want to do Hubs and Auth the following code will be usefull\n",
    "\"\"\"def G_list_hub(G_adj_list):\n",
    "    '''\n",
    "    Args(list): list of graphs adjacency matrices\n",
    "    Return(list): list of adjacency matrices to be used in the block diagonal\n",
    "    of the supra adjacency matrix for hub score\n",
    "    '''\n",
    "    G_hub = []\n",
    "    for g in G_adj_list:\n",
    "        new = np.dot(g, g.transpose())\n",
    "        G_hub.append(new)\n",
    "    return G_hub\n",
    "\n",
    "def G_list_auth(G_adj_list):\n",
    "    '''\n",
    "    Args(list): list of graphs adjacency matrices\n",
    "    Return(list): list of adjacency matrices to be used in the block diagonal\n",
    "    of the supra adjacency matrix for auth score\n",
    "    '''\n",
    "    G_auth = []\n",
    "    for g in G_adj_list:\n",
    "        new = np.dot( g.transpose(), g)\n",
    "        G_auth.append(new)\n",
    "    return G_auth\n",
    "\n",
    "def hub_auth_diag(Coup_list):\n",
    "    coup = []\n",
    "    for c in Coup_list:\n",
    "        coup.append(c*c)\n",
    "    return coup\"\"\"\n"
   ]
  },
  {
   "cell_type": "code",
   "execution_count": 67,
   "metadata": {},
   "outputs": [
    {
     "data": {
      "text/plain": [
       "u'0.18.1'"
      ]
     },
     "execution_count": 67,
     "metadata": {},
     "output_type": "execute_result"
    }
   ],
   "source": [
    "pd.__version__\n"
   ]
  },
  {
   "cell_type": "code",
   "execution_count": null,
   "metadata": {
    "collapsed": true
   },
   "outputs": [],
   "source": []
  }
 ],
 "metadata": {
  "kernelspec": {
   "display_name": "Python (py2)",
   "language": "python",
   "name": "py2"
  },
  "language_info": {
   "codemirror_mode": {
    "name": "ipython",
    "version": 2
   },
   "file_extension": ".py",
   "mimetype": "text/x-python",
   "name": "python",
   "nbconvert_exporter": "python",
   "pygments_lexer": "ipython2",
   "version": "2.7.14"
  }
 },
 "nbformat": 4,
 "nbformat_minor": 1
}
