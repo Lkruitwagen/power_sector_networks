{
 "cells": [
  {
   "cell_type": "markdown",
   "metadata": {},
   "source": [
    "correlate centrality vs porgreen? Plot r^2 through time?<br>\n",
    "Results: No correlation"
   ]
  },
  {
   "cell_type": "code",
   "execution_count": 2,
   "metadata": {
    "collapsed": true
   },
   "outputs": [],
   "source": [
    "import igraph\n",
    "import copy\n",
    "import scipy.stats\n",
    "import networkx as nx\n",
    "import numpy as np\n",
    "import pandas as pd\n",
    "from matplotlib import pylab as plt\n",
    "\n",
    "%matplotlib inline"
   ]
  },
  {
   "cell_type": "code",
   "execution_count": 3,
   "metadata": {
    "collapsed": true
   },
   "outputs": [],
   "source": [
    "path_to_matrices = \"matrix_csvs/\"\n",
    "years = [\"2004\"] + [\"2007\"] + [str(i) for i in range(2014,2018)] #list of all years\n",
    "quarters = [\".0\", \".25\", \".5\", \".75\"] #list of all quarters"
   ]
  },
  {
   "cell_type": "code",
   "execution_count": 10,
   "metadata": {
    "collapsed": false
   },
   "outputs": [
    {
     "name": "stdout",
     "output_type": "stream",
     "text": [
      "219\n"
     ]
    }
   ],
   "source": [
    "#Stating period for analisis\n",
    "y_index = 1\n",
    "q_index = 3\n",
    "current_year = years[y_index] + quarters[q_index] #The year and quarter we will do the analisis for\n",
    "\n",
    "#Importing the files needed\n",
    "df_all = pd.read_csv(path_to_matrices + current_year + \"_all_projection.csv\")\n",
    "names = list(df_all.columns[1:]) #Getting names of nodes\n",
    "n_countries = len(names)\n",
    "print n_countries\n",
    "ADJ_all = np.loadtxt(open(path_to_matrices + current_year + \"_all_projection.csv\", \"rb\"), delimiter=\",\", skiprows=1, \n",
    "           usecols=range(1,n_countries+1)) #getting the adjacency matrix\n",
    "#files are empty\n",
    "#pd.read_csv(path_to_matrices + current_year + \"_blue_projection.csv\")\n",
    "#Adjmat_blue = np.loadtxt(open(path_to_matrices + current_year + \"_blue_projection.csv\", \"rb\"), delimiter=\",\", skiprows=1, \n",
    "           #usecols=range(1,n_countries+1)) #getting the adjacency matrix\n",
    "#Adjmat_green = np.loadtxt(open(path_to_matrices + current_year + \"_green_projection.csv\", \"rb\"), delimiter=\",\", skiprows=1, \n",
    "           #usecols=range(1,n_countries+1)) #getting the adjacency matrix"
   ]
  },
  {
   "cell_type": "code",
   "execution_count": 11,
   "metadata": {
    "collapsed": false
   },
   "outputs": [
    {
     "data": {
      "text/plain": [
       "'matrix_csvs/2007.75_all_projection.csv'"
      ]
     },
     "execution_count": 11,
     "metadata": {},
     "output_type": "execute_result"
    }
   ],
   "source": [
    "path_to_matrices + current_year + \"_all_projection.csv\""
   ]
  },
  {
   "cell_type": "code",
   "execution_count": 7,
   "metadata": {
    "collapsed": true
   },
   "outputs": [],
   "source": [
    "#Extracting bipartite adj mat\n",
    "ADJ_bip_green = np.loadtxt(open(path_to_matrices + current_year + \"_green_MW.csv\", \"rb\"), delimiter=\",\", skiprows=1, \n",
    "           usecols=range(1,n_countries+1)) #getting the adjacency matrix\n",
    "ADJ_bip_blue = np.loadtxt(open(path_to_matrices + current_year + \"_blue_MW.csv\", \"rb\"), delimiter=\",\", skiprows=1, \n",
    "           usecols=range(1,n_countries+1)) #getting the adjacency matrix\n",
    "#Does the all category include the green and blue or is it just the dirty ones? In principle we would like to have \n",
    "#only the dirty ones, right?\n",
    "ADJ_bip_all = np.loadtxt(open(path_to_matrices + current_year + \"_all_MW.csv\", \"rb\"), delimiter=\",\", skiprows=1, \n",
    "           usecols=range(1,n_countries+1)) \n",
    "#To get the high emission plants we use the all matrix and remove the \"clean\" part\n",
    "ADJ_bip_dirty = ADJ_bip_all - (ADJ_bip_green + ADJ_bip_blue)\n",
    "\n",
    "\n",
    "#Making the company projection\n",
    "ADJ_comp_green =  (ADJ_bip_green/ADJ_bip_green.sum()).dot(ADJ_bip_green.T/(ADJ_bip_green.T.sum()))\n",
    "ADJ_comp_blue =  (ADJ_bip_blue/ADJ_bip_blue.sum()).dot(ADJ_bip_blue.T/(ADJ_bip_blue.T.sum()))\n",
    "ADJ_comp_all =  (ADJ_bip_all/ADJ_bip_all.sum()).dot(ADJ_bip_all.T/(ADJ_bip_all.T.sum()))\n",
    "ADJ_comp_dirty =  (ADJ_bip_dirty /ADJ_bip_dirty .sum()).dot(ADJ_bip_dirty.T/(ADJ_bip_dirty .T.sum()))\n",
    "#Making the country projection\n",
    "ADJ_country_green =  (ADJ_bip_green.T/ADJ_bip_green.T.sum()).dot(ADJ_bip_green/(ADJ_bip_green.sum()))\n",
    "ADJ_country_blue =  (ADJ_bip_blue.T/ADJ_bip_blue.T.sum()).dot(ADJ_bip_blue/(ADJ_bip_blue.sum()))\n",
    "ADJ_country_all =  (ADJ_bip_all.T/ADJ_bip_all.T.sum()).dot(ADJ_bip_all/(ADJ_bip_all.sum()))\n",
    "ADJ_country_dirty =  (ADJ_bip_dirty.T /ADJ_bip_dirty.T .sum()).dot(ADJ_bip_dirty/(ADJ_bip_dirty.sum()))\n",
    "\n",
    "#Getting the percentage of emissions of each type for each country\n",
    "green_part = [sum(ADJ_bip_green[:, i])/sum(ADJ_bip_all[:, i]) for i in range(n_countries)]\n",
    "blue_part = [sum(ADJ_bip_blue[:, i])/sum(ADJ_bip_all[:, i]) for i in range(n_countries)]\n",
    "dirty_part = [sum(ADJ_bip_dirty[:, i])/sum(ADJ_bip_all[:, i]) for i in range(n_countries)]"
   ]
  },
  {
   "cell_type": "code",
   "execution_count": 11,
   "metadata": {
    "collapsed": false
   },
   "outputs": [],
   "source": [
    "G = igraph.Graph.Weighted_Adjacency(ADJ_country_green.tolist(), mode=\"directed\")"
   ]
  },
  {
   "cell_type": "code",
   "execution_count": 14,
   "metadata": {
    "collapsed": false
   },
   "outputs": [],
   "source": [
    "auth_score = G.authority_score(weights=G.es[\"weight\"])\n",
    "hub_score = G.hub_score(weights=G.es[\"weight\"])"
   ]
  },
  {
   "cell_type": "code",
   "execution_count": 20,
   "metadata": {
    "collapsed": false
   },
   "outputs": [
    {
     "data": {
      "text/plain": [
       "(0, 0.05)"
      ]
     },
     "execution_count": 20,
     "metadata": {},
     "output_type": "execute_result"
    },
    {
     "data": {
      "image/png": "[encoded data removed]",
      "text/plain": [
       "<matplotlib.figure.Figure at 0x7f25e4b344d0>"
      ]
     },
     "metadata": {},
     "output_type": "display_data"
    }
   ],
   "source": [
    "plt.plot(green_part, auth_score, \"o\")\n",
    "plt.ylim(0, 0.05)"
   ]
  },
  {
   "cell_type": "code",
   "execution_count": 23,
   "metadata": {
    "collapsed": false
   },
   "outputs": [],
   "source": [
    "pagerank = G.personalized_pagerank(weights=G.es[\"weight\"])"
   ]
  },
  {
   "cell_type": "code",
   "execution_count": 25,
   "metadata": {
    "collapsed": false
   },
   "outputs": [
    {
     "data": {
      "text/plain": [
       "[<matplotlib.lines.Line2D at 0x7f25e48e8290>]"
      ]
     },
     "execution_count": 25,
     "metadata": {},
     "output_type": "execute_result"
    },
    {
     "data": {
      "image/png": "[encoded data removed]",
      "text/plain": [
       "<matplotlib.figure.Figure at 0x7f25e4ce7710>"
      ]
     },
     "metadata": {},
     "output_type": "display_data"
    }
   ],
   "source": [
    "plt.plot(green_part, pagerank, \"o\")"
   ]
  },
  {
   "cell_type": "code",
   "execution_count": 30,
   "metadata": {
    "collapsed": false
   },
   "outputs": [
    {
     "data": {
      "text/plain": [
       "(0.027255395594951055, 0.76761369812243996)"
      ]
     },
     "execution_count": 30,
     "metadata": {},
     "output_type": "execute_result"
    }
   ],
   "source": [
    "scipy.stats.pearsonr(green_part, hub_score)"
   ]
  },
  {
   "cell_type": "markdown",
   "metadata": {},
   "source": [
    "No correlation?"
   ]
  }
 ],
 "metadata": {
  "anaconda-cloud": {},
  "kernelspec": {
   "display_name": "Python [Root]",
   "language": "python",
   "name": "Python [Root]"
  },
  "language_info": {
   "codemirror_mode": {
    "name": "ipython",
    "version": 2
   },
   "file_extension": ".py",
   "mimetype": "text/x-python",
   "name": "python",
   "nbconvert_exporter": "python",
   "pygments_lexer": "ipython2",
   "version": "2.7.12"
  }
 },
 "nbformat": 4,
 "nbformat_minor": 1
}
