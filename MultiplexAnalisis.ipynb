{
 "cells": [
  {
   "cell_type": "code",
   "execution_count": 1,
   "metadata": {
    "collapsed": false
   },
   "outputs": [],
   "source": [
    "import igraph\n",
    "import copy\n",
    "import networkx as nx\n",
    "import numpy as np\n",
    "import pandas as pd\n",
    "from matplotlib import pylab as plt\n",
    "\n",
    "%matplotlib inline"
   ]
  },
  {
   "cell_type": "code",
   "execution_count": 2,
   "metadata": {
    "collapsed": true
   },
   "outputs": [],
   "source": [
    "path_to_matrices = \"matrix_csvs/\"\n",
    "years = [\"2004\"] + [\"2007\"] + [str(i) for i in range(2014,2018)] #list of all years\n",
    "quarters = [\".0\", \".25\", \".5\", \".75\"] #list of all quarters"
   ]
  },
  {
   "cell_type": "code",
   "execution_count": 3,
   "metadata": {
    "collapsed": false
   },
   "outputs": [],
   "source": [
    "#Stating period for analisis\n",
    "y_index = -2\n",
    "q_index = 3\n",
    "current_year = years[y_index] + quarters[q_index] #The year and quarter we will do the analisis for\n",
    "\n",
    "#Importing the files needed\n",
    "df_all = pd.read_csv(path_to_matrices + current_year + \"_all_projection.csv\")\n",
    "names = list(df_all.columns[1:]) #Getting names of nodes\n",
    "n_countries = len(names)\n",
    "ADJ_all = np.loadtxt(open(path_to_matrices + current_year + \"_all_projection.csv\", \"rb\"), delimiter=\",\", skiprows=1, \n",
    "           usecols=range(1,n_countries+1)) #getting the adjacency matrix\n",
    "#files are empty\n",
    "#pd.read_csv(path_to_matrices + current_year + \"_blue_projection.csv\")\n",
    "#Adjmat_blue = np.loadtxt(open(path_to_matrices + current_year + \"_blue_projection.csv\", \"rb\"), delimiter=\",\", skiprows=1, \n",
    "           #usecols=range(1,n_countries+1)) #getting the adjacency matrix\n",
    "#Adjmat_green = np.loadtxt(open(path_to_matrices + current_year + \"_green_projection.csv\", \"rb\"), delimiter=\",\", skiprows=1, \n",
    "           #usecols=range(1,n_countries+1)) #getting the adjacency matrix"
   ]
  },
  {
   "cell_type": "markdown",
   "metadata": {},
   "source": [
    "Note, in year 2004 there is hardly little influence between countries. In year 2017 there is more, although still not a lot (think?)"
   ]
  },
  {
   "cell_type": "code",
   "execution_count": 4,
   "metadata": {
    "collapsed": false
   },
   "outputs": [
    {
     "name": "stdout",
     "output_type": "stream",
     "text": [
      "[ 1.          0.98933172  0.91767448  0.99927244  1.          0.98019743\n",
      "  1.          1.          0.99112847  0.97264203  0.97917825  0.95879276\n",
      "  0.98812143  0.97526227  0.91939829  0.8856321   0.97237461  0.93370891\n",
      "  0.97680034  0.97752796  0.91136181  0.96437815  0.9946194   0.9508164   1.\n",
      "  0.9426381   0.98763943  0.99946698  1.          0.99255208  1.          1.\n",
      "  0.992898    0.8910717   0.99388227  0.99097676  0.99428187  0.94678506\n",
      "  0.9586239   1.          1.          1.          0.97955962  0.99178027\n",
      "  0.97840141  0.95161793  0.9052804   1.          1.          0.9996557\n",
      "  0.99918143  0.96729656  1.          1.          0.98068911  0.02307885\n",
      "  0.99817054  1.          1.          0.96109205  0.14602059  0.80591652\n",
      "  0.89173821  1.          0.9831545   0.98312029  1.          1.          1.\n",
      "  0.79509399  1.          1.          0.9746826   0.99701199  0.99740219\n",
      "  0.95399259  0.05762669  0.99417115  0.93736819  1.          0.00500292\n",
      "  0.96570081  0.05838107  1.          1.          0.99945312  1.\n",
      "  0.01093793  1.          1.          1.          0.99776992  1.          1.\n",
      "  1.          1.          0.04950495  1.          1.          1.          1.\n",
      "  0.98010681  0.45836104  1.          1.          1.          0.04209049\n",
      "  1.          0.97137116  1.          0.00373797  1.          1.          1.\n",
      "  0.99785643  1.          1.          0.0011144   0.99996683  0.33216423]\n"
     ]
    },
    {
     "data": {
      "text/plain": [
       "<matplotlib.colorbar.Colorbar at 0x7f6c476818d0>"
      ]
     },
     "execution_count": 4,
     "metadata": {},
     "output_type": "execute_result"
    },
    {
     "data": {
      "image/png": "[encoded data removed]",
      "text/plain": [
       "<matplotlib.figure.Figure at 0x7f6c49bdea50>"
      ]
     },
     "metadata": {},
     "output_type": "display_data"
    }
   ],
   "source": [
    "print(np.diagonal(ADJ_all)) #Is this correct? A \"1\" in the diagonal would indicate the country is not influenced\n",
    "#by any other country?\n",
    "plt.imshow(ADJ_all) #Few influence between countries?\n",
    "plt.colorbar()"
   ]
  },
  {
   "cell_type": "code",
   "execution_count": 17,
   "metadata": {
    "collapsed": false
   },
   "outputs": [
    {
     "data": {
      "text/plain": [
       "array([ 1.,  0.,  0.,  0.,  0.,  0.,  0.,  0.,  0.,  0.,  0.,  0.,  0.,\n",
       "        0.,  0.,  0.,  0.,  0.,  0.,  0.,  0.,  0.,  0.,  0.,  0.,  0.,\n",
       "        0.,  0.,  0.,  0.,  0.,  0.,  0.,  0.,  0.,  0.,  0.,  0.,  0.,\n",
       "        0.,  0.,  0.,  0.,  0.,  0.,  0.,  0.,  0.,  0.,  0.,  0.,  0.,\n",
       "        0.,  0.,  0.,  0.,  0.,  0.,  0.,  0.,  0.,  0.,  0.,  0.,  0.,\n",
       "        0.,  0.,  0.,  0.,  0.,  0.,  0.,  0.,  0.,  0.,  0.,  0.,  0.,\n",
       "        0.,  0.,  0.,  0.,  0.,  0.,  0.,  0.,  0.,  0.,  0.,  0.,  0.,\n",
       "        0.,  0.,  0.,  0.,  0.,  0.,  0.,  0.,  0.,  0.,  0.,  0.,  0.,\n",
       "        0.,  0.,  0.,  0.,  0.,  0.,  0.,  0.,  0.,  0.,  0.,  0.,  0.,\n",
       "        0.,  0.,  0.])"
      ]
     },
     "execution_count": 17,
     "metadata": {},
     "output_type": "execute_result"
    }
   ],
   "source": [
    "#This is an isolated node.\n",
    "ADJ_all[0]"
   ]
  },
  {
   "cell_type": "code",
   "execution_count": 5,
   "metadata": {
    "collapsed": false
   },
   "outputs": [
    {
     "name": "stdout",
     "output_type": "stream",
     "text": [
      "Small diagonal value\n",
      "55   HN\n",
      "60   PA\n",
      "76   DO\n",
      "80   RE\n",
      "82   GT\n",
      "87   EH\n",
      "96   HT\n",
      "102   BT\n",
      "106   KH\n",
      "110   GP\n",
      "117   MQ\n",
      "119   LA\n"
     ]
    }
   ],
   "source": [
    "#Only small countries can be influenced?\n",
    "print(\"Small diagonal value\")\n",
    "for i in range(n_countries):\n",
    "    if np.diagonal(ADJ_all)[i] < 0.5:\n",
    "        print i, \" \", names[i]"
   ]
  },
  {
   "cell_type": "code",
   "execution_count": 6,
   "metadata": {
    "collapsed": false
   },
   "outputs": [
    {
     "data": {
      "text/plain": [
       "[<matplotlib.lines.Line2D at 0x7f6c4700e650>]"
      ]
     },
     "execution_count": 6,
     "metadata": {},
     "output_type": "execute_result"
    },
    {
     "data": {
      "image/png": "[encoded data removed]",
      "text/plain": [
       "<matplotlib.figure.Figure at 0x7f6c475b6750>"
      ]
     },
     "metadata": {},
     "output_type": "display_data"
    }
   ],
   "source": [
    "#PageRank centrality with igraph\n",
    "G_all =  igraph.Graph.Weighted_Adjacency(ADJ_all.tolist() ,mode=\"directed\")\n",
    "pr_all = G_all.personalized_pagerank(weights=G_all.es[\"weight\"], directed=True)\n",
    "names_copy = copy.copy(names)\n",
    "inds = np.array(pr_all).argsort()[::-1][:]\n",
    "sort_names_pr = np.array(names_copy)[inds]\n",
    "sort_centrality_pr = np.array(pr_all)[inds]\n",
    "sort_names_pr, sort_centrality_pr\n",
    "plt.plot(pr_all, \"o\")"
   ]
  },
  {
   "cell_type": "markdown",
   "metadata": {},
   "source": [
    "### Loading matrices and making projections"
   ]
  },
  {
   "cell_type": "code",
   "execution_count": 7,
   "metadata": {
    "collapsed": false
   },
   "outputs": [],
   "source": [
    "#Extracting bipartite adj mat\n",
    "ADJ_bip_green = np.loadtxt(open(path_to_matrices + current_year + \"_green_MW.csv\", \"rb\"), delimiter=\",\", skiprows=1, \n",
    "           usecols=range(1,n_countries+1)) #getting the adjacency matrix\n",
    "ADJ_bip_blue = np.loadtxt(open(path_to_matrices + current_year + \"_blue_MW.csv\", \"rb\"), delimiter=\",\", skiprows=1, \n",
    "           usecols=range(1,n_countries+1)) #getting the adjacency matrix\n",
    "#Does the all category include the green and blue or is it just the dirty ones? In principle we would like to have \n",
    "#only the dirty ones, right?\n",
    "ADJ_bip_all = np.loadtxt(open(path_to_matrices + current_year + \"_all_MW.csv\", \"rb\"), delimiter=\",\", skiprows=1, \n",
    "           usecols=range(1,n_countries+1)) \n",
    "#To get the high emission plants we use the all matrix and remove the \"clean\" part\n",
    "ADJ_bip_dirty = ADJ_bip_all - (ADJ_bip_green + ADJ_bip_blue)\n",
    "\n",
    "\n",
    "#Making the company projection\n",
    "ADJ_comp_green =  (ADJ_bip_green/ADJ_bip_green.sum()).dot(ADJ_bip_green.T/(ADJ_bip_green.T.sum()))\n",
    "ADJ_comp_blue =  (ADJ_bip_blue/ADJ_bip_blue.sum()).dot(ADJ_bip_blue.T/(ADJ_bip_blue.T.sum()))\n",
    "ADJ_comp_all =  (ADJ_bip_all/ADJ_bip_all.sum()).dot(ADJ_bip_all.T/(ADJ_bip_all.T.sum()))\n",
    "ADJ_comp_dirty =  (ADJ_bip_dirty /ADJ_bip_dirty .sum()).dot(ADJ_bip_dirty.T/(ADJ_bip_dirty .T.sum()))\n",
    "#Making the country projection\n",
    "ADJ_country_green =  (ADJ_bip_green.T/ADJ_bip_green.T.sum()).dot(ADJ_bip_green/(ADJ_bip_green.sum()))\n",
    "ADJ_country_blue =  (ADJ_bip_blue.T/ADJ_bip_blue.T.sum()).dot(ADJ_bip_blue/(ADJ_bip_blue.sum()))\n",
    "ADJ_country_all =  (ADJ_bip_all.T/ADJ_bip_all.T.sum()).dot(ADJ_bip_all/(ADJ_bip_all.sum()))\n",
    "ADJ_country_dirty =  (ADJ_bip_dirty.T /ADJ_bip_dirty.T .sum()).dot(ADJ_bip_dirty/(ADJ_bip_dirty.sum()))\n",
    "\n",
    "#Getting the percentage of emissions of each type for each country\n",
    "green_part = [sum(ADJ_bip_green[:, i])/sum(ADJ_bip_all[:, i]) for i in range(n_countries)]\n",
    "blue_part = [sum(ADJ_bip_blue[:, i])/sum(ADJ_bip_all[:, i]) for i in range(n_countries)]\n",
    "dirty_part = [sum(ADJ_bip_dirty[:, i])/sum(ADJ_bip_all[:, i]) for i in range(n_countries)]"
   ]
  },
  {
   "cell_type": "markdown",
   "metadata": {},
   "source": [
    "# Multilayer analysis"
   ]
  },
  {
   "cell_type": "code",
   "execution_count": 8,
   "metadata": {
    "collapsed": false
   },
   "outputs": [],
   "source": [
    "\n",
    "def make_supra_adj(ADJ_list, COUP_list):\n",
    "    \"\"\"Function that takes list of adj matrix and coupling and generates the supra adjacency matrix of the\n",
    "    multiplex network\n",
    "    Args:\n",
    "        ADJ_list: list of numpy 2D array's. Each of them is an adjacency matrix\n",
    "        COUP_list: list of numpy 1D array's. Each of them is the vector to be used for coupling the matrices\n",
    "    Return:\n",
    "        Supra Adjacency matrix. Numpy 2D array.\n",
    "    \"\"\"\n",
    "    n_layers = len(ADJ_list)\n",
    "    n_nodes = ADJ_list[0].shape[0]\n",
    "    \n",
    "    #stacking up adjacency matrix and coupling accordingly\n",
    "    sup_list = []\n",
    "    for i in range(n_layers):\n",
    "        row = []\n",
    "        for j in range(n_layers):\n",
    "            if i == j: #if in diagonal add adjacency matrix\n",
    "                row.append(ADJ_list[i])\n",
    "                #print(ADJ_list[i].shape)\n",
    "            else: #otherwise add the coupling (diagonal since multiplex network)\n",
    "                row.append(np.diag(COUP_list[i])) #if i or j here defined direction of coupling\n",
    "                #print(np.diag(COUP_list[i]).shape)\n",
    "        sup_list.append(row)\n",
    "        \n",
    "    return np.bmat(sup_list)\n",
    "    \n",
    "n_nodes = n_countries\n",
    "n_layers = 3\n",
    "#The following function is taylored for igraph centrality\n",
    "def flatten_centrality(centrality_vector, n=n_nodes, l=n_layers, names=names, hubauth=False):\n",
    "    '''Centrality networks in a Multiplex are commonly expressed as a vector of\n",
    "    nlx1 dimension. To have a centrality for each node it is important to flatten\n",
    "    the vector into nx1 dimension. Also, it is important return a list of ranked\n",
    "    nodes and another of their score.\n",
    "    Args\n",
    "    centrality_vector(numpy array): the centrality measure for each node-layer\n",
    "    n(int): number of nodes\n",
    "    l(int): number of layers\n",
    "    names(list of strings): name of nodes (countries)\n",
    "    hubauth(boolean): indicating if the centrality is hub or authority\n",
    "    Return:\n",
    "    sort_names_multi(list of strings): names of countries ordered by centrality\n",
    "    sort_centrality_multi(list of flots): sorted score of nodes\n",
    "    '''\n",
    "    multi_centrality = []\n",
    "    for i in range(n):\n",
    "        cent = 0\n",
    "        for k in range(l):\n",
    "            cent += centrality_vector[i + n*k]\n",
    "        if hubauth:\n",
    "            multi_centrality.append(cent[0])\n",
    "        else:\n",
    "            multi_centrality.append(cent)\n",
    "    node_names = np.array(copy.deepcopy(names))\n",
    "    inds = np.array(multi_centrality).argsort()[::-1][:]\n",
    "    sort_names_multi = node_names[inds]\n",
    "    sort_centrality_multi = np.array(multi_centrality)[inds]\n",
    "    \n",
    "    return sort_names_multi, sort_centrality_multi    \n"
   ]
  },
  {
   "cell_type": "code",
   "execution_count": 9,
   "metadata": {
    "collapsed": true
   },
   "outputs": [],
   "source": [
    "#Making the supra adjacency matrix\n",
    "SUPADJ_country = make_supra_adj([ADJ_country_green, ADJ_country_blue, ADJ_country_dirty], [green_part, blue_part, dirty_part]) "
   ]
  },
  {
   "cell_type": "code",
   "execution_count": 10,
   "metadata": {
    "collapsed": false
   },
   "outputs": [],
   "source": [
    "#making the graph\n",
    "G_supra = igraph.Graph.Weighted_Adjacency( SUPADJ_country.tolist() ,mode=\"directed\") \n",
    "#computing pagerank\n",
    "pr_muliplex = G_supra.personalized_pagerank(weights=G_supra.es[\"weight\"])\n",
    "#sorting it appropriately\n",
    "pr_multiplex_sorted = flatten_centrality(pr_muliplex)"
   ]
  },
  {
   "cell_type": "code",
   "execution_count": 11,
   "metadata": {
    "collapsed": false
   },
   "outputs": [
    {
     "data": {
      "text/plain": [
       "(array(['US', 'ES', 'MX', 'RU', 'BR', 'IE', 'GB', 'CL', 'PL', 'PT', 'AE',\n",
       "        'KR', 'AU', 'BE', 'MA', 'TR', 'MM', 'IT', 'IL', 'UY', 'FI', 'ID',\n",
       "        'PH', 'GH', 'TW', 'IQ', 'IR', 'VE', 'TH', 'VN', 'DZ', 'ET', 'CZ',\n",
       "        'AT', 'AR', 'NZ', 'UZ', 'CU', 'TM', 'SY', 'SK', 'TN', 'LV', 'AZ',\n",
       "        'IS', 'CH', 'LB', 'MK', 'BY', 'TZ', 'LT', 'EE', 'KG', 'ZM', 'RS',\n",
       "        'LK', 'KE', 'NG', 'CR', 'EG', 'MY', 'CO', 'JP', 'PK', 'GR', 'PE',\n",
       "        'HR', 'JO', 'BG', 'HU', 'BD', 'CN', 'NL', 'NO', 'DE', 'ZA', 'SE',\n",
       "        'UA', 'IN', 'RO', 'FR', 'CA', 'DK', 'SA', 'BT', 'OM', 'KW', 'LY',\n",
       "        'RE', 'SG', 'TJ', 'QA', 'BH', 'KZ', 'CD', 'AO', 'KP', 'PA', 'ZW',\n",
       "        'MZ', 'BA', 'SS', 'PG', 'SD', 'ME', 'CY', 'AL', 'GT', 'EH', 'HN',\n",
       "        'GP', 'NP', 'MQ', 'LA', 'SI', 'DO', 'MD', 'KH', 'YE', 'HT'], \n",
       "       dtype='|S2'),\n",
       " array([ 0.01086749,  0.01086593,  0.01086445,  0.01086426,  0.01086424,\n",
       "         0.01086387,  0.01086373,  0.01086346,  0.01086337,  0.01086332,\n",
       "         0.0108633 ,  0.01086329,  0.01086328,  0.01086328,  0.01086328,\n",
       "         0.01086328,  0.01086328,  0.01086327,  0.01086327,  0.01086327,\n",
       "         0.01086326,  0.01086326,  0.01086326,  0.01086326,  0.01086326,\n",
       "         0.01086326,  0.01086326,  0.01086326,  0.01086326,  0.01086326,\n",
       "         0.01086326,  0.01086326,  0.01086326,  0.01086326,  0.01086326,\n",
       "         0.01086326,  0.01086326,  0.01086326,  0.01086326,  0.01086326,\n",
       "         0.01086326,  0.01086326,  0.01086326,  0.01086326,  0.01086326,\n",
       "         0.01086326,  0.01086326,  0.01086326,  0.01086326,  0.01086326,\n",
       "         0.01086326,  0.01086326,  0.01086326,  0.01086326,  0.01086326,\n",
       "         0.01086326,  0.01086326,  0.01086326,  0.01086326,  0.01086326,\n",
       "         0.01086326,  0.01086325,  0.01086325,  0.01086324,  0.01086324,\n",
       "         0.01086323,  0.01086323,  0.01086323,  0.01086323,  0.01086321,\n",
       "         0.0108632 ,  0.0108632 ,  0.01086319,  0.01086285,  0.01086255,\n",
       "         0.01086245,  0.01086232,  0.01086226,  0.01086216,  0.01086078,\n",
       "         0.01086014,  0.01085996,  0.00323588,  0.00323587,  0.00323568,\n",
       "         0.00323541,  0.0032354 ,  0.00323538,  0.00323538,  0.00323537,\n",
       "         0.00323537,  0.00323537,  0.00323537,  0.00323537,  0.00323537,\n",
       "         0.00323536,  0.00323536,  0.00323536,  0.00323536,  0.00323536,\n",
       "         0.00323536,  0.00323536,  0.00323536,  0.00323536,  0.00323536,\n",
       "         0.00323536,  0.00323536,  0.00323536,  0.00209119,  0.00209119,\n",
       "         0.00209119,  0.00209119,  0.00209118,  0.00209118,  0.00209118,\n",
       "         0.00209118,  0.00209118,  0.00209118,  0.00209118,  0.00209118]))"
      ]
     },
     "execution_count": 11,
     "metadata": {},
     "output_type": "execute_result"
    }
   ],
   "source": [
    "pr_multiplex_sorted"
   ]
  },
  {
   "cell_type": "markdown",
   "metadata": {},
   "source": [
    "Comparing it with the aggregate pagerank centrality"
   ]
  },
  {
   "cell_type": "code",
   "execution_count": 12,
   "metadata": {
    "collapsed": false
   },
   "outputs": [],
   "source": [
    "G_all =  igraph.Graph.Weighted_Adjacency( ADJ_all.tolist() ,mode=\"directed\")\n",
    "pr_all = G_all.personalized_pagerank(weights=G_all.es[\"weight\"])\n",
    "names_copy = copy.copy(names)\n",
    "inds = np.array(pr_all).argsort()[:]\n",
    "#If small countries are first, try including the [::-1 as below]\n",
    "#inds = np.array(pr_all).argsort()[::-1][:]\n",
    "sort_names_pr = np.array(names_copy)[inds]\n",
    "sort_centrality_pr = np.array(pr_all)[inds]"
   ]
  },
  {
   "cell_type": "code",
   "execution_count": 13,
   "metadata": {
    "collapsed": false
   },
   "outputs": [
    {
     "data": {
      "text/plain": [
       "(array(['US', 'FR', 'BR', 'MX', 'IN', 'ES', 'PK', 'SA', 'VN', 'CL', 'GB',\n",
       "        'EG', 'CN', 'PT', 'PL', 'DE', 'ZA', 'MM', 'PE', 'CA', 'BD', 'IT',\n",
       "        'RO', 'BG', 'AE', 'RU', 'SE', 'NL', 'KZ', 'OM', 'NO', 'IL', 'ID',\n",
       "        'GH', 'JP', 'CR', 'MY', 'AU', 'TR', 'DZ', 'TJ', 'ME', 'YE', 'NZ',\n",
       "        'LV', 'CU', 'AO', 'CY', 'KP', 'PG', 'EE', 'SI', 'UZ', 'RS', 'LT',\n",
       "        'CD', 'BH', 'IS', 'KW', 'SS', 'TZ', 'CZ', 'SD', 'AL', 'AR', 'TH',\n",
       "        'SY', 'ZM', 'MK', 'CH', 'ET', 'TM', 'IR', 'MZ', 'SK', 'KG', 'MD',\n",
       "        'AT', 'BY', 'NP', 'VE', 'ZW', 'LK', 'TN', 'QA', 'AZ', 'LB', 'TW',\n",
       "        'GR', 'LY', 'IQ', 'PH', 'BA', 'SG', 'NG', 'KR', 'BE', 'CO', 'MA',\n",
       "        'HR', 'FI', 'KE', 'UY', 'UA', 'HU', 'DK', 'GT', 'IE', 'DO', 'LA',\n",
       "        'BT', 'EH', 'JO', 'HT', 'RE', 'GP', 'MQ', 'HN', 'KH', 'PA'], \n",
       "       dtype='|S2'),\n",
       " array([ 0.00208513,  0.00237654,  0.00243707,  0.00262046,  0.00292486,\n",
       "         0.00314372,  0.00330031,  0.00343078,  0.00372804,  0.00380639,\n",
       "         0.00410278,  0.00426366,  0.00444883,  0.00485509,  0.00500361,\n",
       "         0.00512598,  0.00532921,  0.00537063,  0.00593066,  0.00595195,\n",
       "         0.00602613,  0.00666319,  0.00667776,  0.00676237,  0.00725231,\n",
       "         0.00733214,  0.00740549,  0.00751934,  0.00761992,  0.00768537,\n",
       "         0.00798369,  0.00810793,  0.00811446,  0.00814203,  0.00823355,\n",
       "         0.00829766,  0.00829871,  0.00833031,  0.00833146,  0.00833333,\n",
       "         0.00833333,  0.00833333,  0.00833333,  0.00833333,  0.00833333,\n",
       "         0.00833333,  0.00833333,  0.00833333,  0.00833333,  0.00833333,\n",
       "         0.00833333,  0.00833333,  0.00833333,  0.00833333,  0.00833333,\n",
       "         0.00833333,  0.00833333,  0.00833333,  0.00833333,  0.00833333,\n",
       "         0.00833333,  0.00833333,  0.00833333,  0.00833333,  0.00833333,\n",
       "         0.00833333,  0.00833333,  0.00833333,  0.00833333,  0.00833333,\n",
       "         0.00833333,  0.00833333,  0.00833333,  0.00833333,  0.00833333,\n",
       "         0.00833333,  0.00833333,  0.00833333,  0.00833333,  0.00833333,\n",
       "         0.00833333,  0.00833333,  0.00833333,  0.00833333,  0.00833333,\n",
       "         0.00833333,  0.00833333,  0.00833357,  0.00833972,  0.00834024,\n",
       "         0.00834244,  0.00836375,  0.00837183,  0.00838496,  0.00839846,\n",
       "         0.00853772,  0.00861592,  0.00876727,  0.00877396,  0.00881904,\n",
       "         0.00897443,  0.00907096,  0.00916562,  0.00933452,  0.00978096,\n",
       "         0.00981739,  0.0109873 ,  0.01158808,  0.01165359,  0.01197522,\n",
       "         0.0124951 ,  0.01275579,  0.0159747 ,  0.01613262,  0.01656383,\n",
       "         0.01656383,  0.01656383,  0.01713745,  0.01859143,  0.01946497]))"
      ]
     },
     "execution_count": 13,
     "metadata": {},
     "output_type": "execute_result"
    }
   ],
   "source": [
    "sort_names_pr, sort_centrality_pr"
   ]
  },
  {
   "cell_type": "markdown",
   "metadata": {},
   "source": [
    "# Inconsistency between networkx and igraph?\n",
    "I tend to trust igraph more, however the discrepancy might mean that values in general are too close. Perhaps networkx power method is not converging?"
   ]
  },
  {
   "cell_type": "code",
   "execution_count": 14,
   "metadata": {
    "collapsed": false
   },
   "outputs": [
    {
     "data": {
      "text/plain": [
       "[<matplotlib.lines.Line2D at 0x7f6c470b0090>]"
      ]
     },
     "execution_count": 14,
     "metadata": {},
     "output_type": "execute_result"
    },
    {
     "data": {
      "image/png": "[encoded data removed]",
      "text/plain": [
       "<matplotlib.figure.Figure at 0x7f6c49bde5d0>"
      ]
     },
     "metadata": {},
     "output_type": "display_data"
    }
   ],
   "source": [
    "#PageRank centrality with igraph\n",
    "G_all =  igraph.Graph.Weighted_Adjacency(ADJ_all.tolist() ,mode=\"directed\")\n",
    "pr_all = G_all.personalized_pagerank(weights=G_all.es[\"weight\"], directed=True)\n",
    "names_copy = copy.copy(names)\n",
    "#inds = np.array(pr_all).argsort()[::-1][:]\n",
    "inds = np.array(pr_all).argsort()[:]\n",
    "sort_names_pr = np.array(names_copy)[inds]\n",
    "sort_centrality_pr = np.array(pr_all)[inds]\n",
    "sort_names_pr, sort_centrality_pr\n",
    "\n",
    "#PageRank centrality with networkx\n",
    "G_all_nx = nx.from_numpy_matrix(ADJ_all)\n",
    "pr_all_nx = nx.pagerank(G_all_nx, weight=\"weight\")\n",
    "plt.plot(pr_all_nx.values(), \"o\")\n",
    "plt.plot(pr_all, \".\")"
   ]
  },
  {
   "cell_type": "code",
   "execution_count": 15,
   "metadata": {
    "collapsed": false
   },
   "outputs": [
    {
     "data": {
      "text/plain": [
       "[<matplotlib.lines.Line2D at 0x7f6c444877d0>]"
      ]
     },
     "execution_count": 15,
     "metadata": {},
     "output_type": "execute_result"
    },
    {
     "data": {
      "image/png": "[encoded data removed]",
      "text/plain": [
       "<matplotlib.figure.Figure at 0x7f6c4704f090>"
      ]
     },
     "metadata": {},
     "output_type": "display_data"
    }
   ],
   "source": [
    "plt.plot(pr_all, pr_all_nx.values(), \"o\")"
   ]
  },
  {
   "cell_type": "code",
   "execution_count": 16,
   "metadata": {
    "collapsed": false
   },
   "outputs": [
    {
     "name": "stdout",
     "output_type": "stream",
     "text": [
      "0 nx =  BD ig =  US\n",
      "1 nx =  CR ig =  FR\n",
      "2 nx =  JO ig =  BR\n",
      "3 nx =  UY ig =  MX\n",
      "4 nx =  LA ig =  IN\n",
      "5 nx =  CL ig =  ES\n",
      "6 nx =  PT ig =  PK\n",
      "7 nx =  KE ig =  SA\n",
      "8 nx =  PE ig =  VN\n",
      "9 nx =  MX ig =  CL\n",
      "10 nx =  MA ig =  GB\n",
      "11 nx =  SA ig =  EG\n",
      "12 nx =  RE ig =  CN\n",
      "13 nx =  FR ig =  PT\n",
      "14 nx =  OM ig =  PL\n",
      "15 nx =  EG ig =  DE\n",
      "16 nx =  BR ig =  ZA\n",
      "17 nx =  IN ig =  MM\n",
      "18 nx =  GH ig =  PE\n",
      "19 nx =  PK ig =  CA\n",
      "20 nx =  BG ig =  BD\n",
      "21 nx =  ES ig =  IT\n",
      "22 nx =  PL ig =  RO\n",
      "23 nx =  MY ig =  BG\n",
      "24 nx =  VN ig =  AE\n",
      "25 nx =  ZA ig =  RU\n",
      "26 nx =  RO ig =  SE\n",
      "27 nx =  SE ig =  NL\n",
      "28 nx =  AE ig =  KZ\n",
      "29 nx =  DE ig =  OM\n",
      "30 nx =  MM ig =  NO\n",
      "31 nx =  NO ig =  IL\n",
      "32 nx =  CN ig =  ID\n",
      "33 nx =  US ig =  GH\n",
      "34 nx =  GB ig =  JP\n",
      "35 nx =  NL ig =  CR\n",
      "36 nx =  IT ig =  MY\n",
      "37 nx =  HU ig =  AU\n",
      "38 nx =  IL ig =  TR\n",
      "39 nx =  KZ ig =  DZ\n",
      "40 nx =  RU ig =  TJ\n",
      "41 nx =  CO ig =  ME\n",
      "42 nx =  BA ig =  YE\n",
      "43 nx =  ID ig =  NZ\n",
      "44 nx =  TR ig =  LV\n",
      "45 nx =  JP ig =  CU\n",
      "46 nx =  GR ig =  AO\n",
      "47 nx =  SG ig =  CY\n",
      "48 nx =  PH ig =  KP\n",
      "49 nx =  LY ig =  PG\n",
      "50 nx =  IQ ig =  EE\n",
      "51 nx =  ZM ig =  SI\n",
      "52 nx =  MK ig =  UZ\n",
      "53 nx =  SK ig =  RS\n",
      "54 nx =  TN ig =  LT\n",
      "55 nx =  BY ig =  CD\n",
      "56 nx =  AL ig =  BH\n",
      "57 nx =  MZ ig =  IS\n",
      "58 nx =  ME ig =  KW\n",
      "59 nx =  TZ ig =  SS\n",
      "60 nx =  KP ig =  TZ\n",
      "61 nx =  AO ig =  CZ\n",
      "62 nx =  PG ig =  SD\n",
      "63 nx =  RS ig =  AL\n",
      "64 nx =  MD ig =  AR\n",
      "65 nx =  AZ ig =  TH\n",
      "66 nx =  SS ig =  SY\n",
      "67 nx =  KW ig =  ZM\n",
      "68 nx =  IS ig =  MK\n",
      "69 nx =  BH ig =  CH\n",
      "70 nx =  CD ig =  ET\n",
      "71 nx =  LT ig =  TM\n",
      "72 nx =  UZ ig =  IR\n",
      "73 nx =  SI ig =  MZ\n",
      "74 nx =  EE ig =  SK\n",
      "75 nx =  CY ig =  KG\n",
      "76 nx =  DZ ig =  MD\n",
      "77 nx =  TJ ig =  AT\n",
      "78 nx =  YE ig =  BY\n",
      "79 nx =  NZ ig =  NP\n",
      "80 nx =  LV ig =  VE\n",
      "81 nx =  CZ ig =  ZW\n",
      "82 nx =  NP ig =  LK\n",
      "83 nx =  VE ig =  TN\n",
      "84 nx =  LK ig =  QA\n",
      "85 nx =  QA ig =  AZ\n",
      "86 nx =  SD ig =  LB\n",
      "87 nx =  LB ig =  TW\n",
      "88 nx =  AT ig =  GR\n",
      "89 nx =  ZW ig =  LY\n",
      "90 nx =  KG ig =  IQ\n",
      "91 nx =  IR ig =  PH\n",
      "92 nx =  TM ig =  BA\n",
      "93 nx =  ET ig =  SG\n",
      "94 nx =  CH ig =  NG\n",
      "95 nx =  SY ig =  KR\n",
      "96 nx =  TH ig =  BE\n",
      "97 nx =  AR ig =  CO\n",
      "98 nx =  CU ig =  MA\n",
      "99 nx =  TW ig =  HR\n",
      "100 nx =  AU ig =  FI\n",
      "101 nx =  NG ig =  KE\n",
      "102 nx =  HR ig =  UY\n",
      "103 nx =  UA ig =  UA\n",
      "104 nx =  BE ig =  HU\n",
      "105 nx =  KR ig =  DK\n",
      "106 nx =  FI ig =  GT\n",
      "107 nx =  CA ig =  IE\n",
      "108 nx =  DK ig =  DO\n",
      "109 nx =  IE ig =  LA\n",
      "110 nx =  GP ig =  BT\n",
      "111 nx =  BT ig =  EH\n",
      "112 nx =  HT ig =  JO\n",
      "113 nx =  PA ig =  HT\n",
      "114 nx =  KH ig =  RE\n",
      "115 nx =  DO ig =  GP\n",
      "116 nx =  GT ig =  MQ\n",
      "117 nx =  MQ ig =  HN\n",
      "118 nx =  EH ig =  KH\n",
      "119 nx =  HN ig =  PA\n"
     ]
    }
   ],
   "source": [
    "for i in range(n_countries):\n",
    "    print i, \"nx = \", names[sorted(pr_all_nx.items(), key=lambda x:x[1])[::-1][i][0]], \"ig = \", sort_names_pr[i]"
   ]
  },
  {
   "cell_type": "code",
   "execution_count": 66,
   "metadata": {
    "collapsed": false
   },
   "outputs": [
    {
     "data": {
      "text/plain": [
       "\"def G_list_hub(G_adj_list):\\n    '''\\n    Args(list): list of graphs adjacency matrices\\n    Return(list): list of adjacency matrices to be used in the block diagonal\\n    of the supra adjacency matrix for hub score\\n    '''\\n    G_hub = []\\n    for g in G_adj_list:\\n        new = np.dot(g, g.transpose())\\n        G_hub.append(new)\\n    return G_hub\\n\\ndef G_list_auth(G_adj_list):\\n    '''\\n    Args(list): list of graphs adjacency matrices\\n    Return(list): list of adjacency matrices to be used in the block diagonal\\n    of the supra adjacency matrix for auth score\\n    '''\\n    G_auth = []\\n    for g in G_adj_list:\\n        new = np.dot( g.transpose(), g)\\n        G_auth.append(new)\\n    return G_auth\\n\\ndef hub_auth_diag(Coup_list):\\n    coup = []\\n    for c in Coup_list:\\n        coup.append(c*c)\\n    return coup\""
      ]
     },
     "execution_count": 66,
     "metadata": {},
     "output_type": "execute_result"
    }
   ],
   "source": [
    "#If we want to do Hubs and Auth the following code will be usefull\n",
    "\"\"\"def G_list_hub(G_adj_list):\n",
    "    '''\n",
    "    Args(list): list of graphs adjacency matrices\n",
    "    Return(list): list of adjacency matrices to be used in the block diagonal\n",
    "    of the supra adjacency matrix for hub score\n",
    "    '''\n",
    "    G_hub = []\n",
    "    for g in G_adj_list:\n",
    "        new = np.dot(g, g.transpose())\n",
    "        G_hub.append(new)\n",
    "    return G_hub\n",
    "\n",
    "def G_list_auth(G_adj_list):\n",
    "    '''\n",
    "    Args(list): list of graphs adjacency matrices\n",
    "    Return(list): list of adjacency matrices to be used in the block diagonal\n",
    "    of the supra adjacency matrix for auth score\n",
    "    '''\n",
    "    G_auth = []\n",
    "    for g in G_adj_list:\n",
    "        new = np.dot( g.transpose(), g)\n",
    "        G_auth.append(new)\n",
    "    return G_auth\n",
    "\n",
    "def hub_auth_diag(Coup_list):\n",
    "    coup = []\n",
    "    for c in Coup_list:\n",
    "        coup.append(c*c)\n",
    "    return coup\"\"\"\n"
   ]
  },
  {
   "cell_type": "code",
   "execution_count": 67,
   "metadata": {
    "collapsed": false
   },
   "outputs": [
    {
     "data": {
      "text/plain": [
       "u'0.18.1'"
      ]
     },
     "execution_count": 67,
     "metadata": {},
     "output_type": "execute_result"
    }
   ],
   "source": [
    "pd.__version__\n"
   ]
  },
  {
   "cell_type": "code",
   "execution_count": null,
   "metadata": {
    "collapsed": true
   },
   "outputs": [],
   "source": []
  }
 ],
 "metadata": {
  "kernelspec": {
   "display_name": "Python [Root]",
   "language": "python",
   "name": "Python [Root]"
  },
  "language_info": {
   "codemirror_mode": {
    "name": "ipython",
    "version": 2
   },
   "file_extension": ".py",
   "mimetype": "text/x-python",
   "name": "python",
   "nbconvert_exporter": "python",
   "pygments_lexer": "ipython2",
   "version": "2.7.12"
  }
 },
 "nbformat": 4,
 "nbformat_minor": 0
}
