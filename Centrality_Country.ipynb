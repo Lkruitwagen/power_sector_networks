{
 "cells": [
  {
   "cell_type": "code",
   "execution_count": 1,
   "metadata": {},
   "outputs": [],
   "source": [
    "import igraph\n",
    "import glob\n",
    "import copy\n",
    "import networkx as nx\n",
    "import numpy as np\n",
    "import pandas as pd\n",
    "from matplotlib import pylab as plt\n",
    "\n",
    "%matplotlib inline"
   ]
  },
  {
   "cell_type": "code",
   "execution_count": 2,
   "metadata": {},
   "outputs": [
    {
     "name": "stdout",
     "output_type": "stream",
     "text": [
      "['./matrix_csvs/2004.75_all_projection.csv', './matrix_csvs/2007.75_all_projection.csv', './matrix_csvs/2008.75_all_projection.csv', './matrix_csvs/2009.75_all_projection.csv', './matrix_csvs/2010.75_all_projection.csv', './matrix_csvs/2011.5_all_projection.csv', './matrix_csvs/2012.75_all_projection.csv', './matrix_csvs/2013.75_all_projection.csv', './matrix_csvs/2014.75_all_projection.csv', './matrix_csvs/2015.0_all_projection.csv', './matrix_csvs/2015.25_all_projection.csv', './matrix_csvs/2015.5_all_projection.csv', './matrix_csvs/2015.75_all_projection.csv', './matrix_csvs/2016.0_all_projection.csv', './matrix_csvs/2016.25_all_projection.csv', './matrix_csvs/2016.5_all_projection.csv', './matrix_csvs/2016.75_all_projection.csv', './matrix_csvs/2017.0_all_projection.csv', './matrix_csvs/2017.25_all_projection.csv', './matrix_csvs/2017.5_all_projection.csv', './matrix_csvs/2017.75_all_projection.csv']\n"
     ]
    }
   ],
   "source": [
    "\"\"\" get all files \"\"\"\n",
    "files = glob.glob('./matrix_csvs/*')\n",
    "\n",
    "g_MW_files = sorted([f for f in files if ((f.split('/')[-1].split('_')[1]=='green')and (f.split('/')[-1].split('_')[2]=='projection.csv') ) ])\n",
    "b_MW_files =sorted([f for f in files if ((f.split('/')[-1].split('_')[1]=='blue') and (f.split('/')[-1].split('_')[2]=='projection.csv') )])\n",
    "all_MW_files = sorted([f for f in files if ((f.split('/')[-1].split('_')[1]=='all') and (f.split('/')[-1].split('_')[2]=='projection.csv'))])\n",
    "\n",
    "print all_MW_files"
   ]
  },
  {
   "cell_type": "code",
   "execution_count": 3,
   "metadata": {},
   "outputs": [
    {
     "name": "stdout",
     "output_type": "stream",
     "text": [
      "{'data_b': 0.0, 'data_g': 0.0, 'year': 2007, 'fname_g': './matrix_csvs/2007.75_green_projection.csv', 'fname_b': './matrix_csvs/2007.75_blue_projection.csv', 'data_all': 0.0, 'fname_all': './matrix_csvs/2007.75_all_projection.csv'}\n",
      "{'data_b': 0.0, 'data_g': 0.0, 'year': 2008, 'fname_g': './matrix_csvs/2008.75_green_projection.csv', 'fname_b': './matrix_csvs/2008.75_blue_projection.csv', 'data_all': 0.0, 'fname_all': './matrix_csvs/2008.75_all_projection.csv'}\n",
      "{'data_b': 0.0, 'data_g': 0.0, 'year': 2009, 'fname_g': './matrix_csvs/2009.75_green_projection.csv', 'fname_b': './matrix_csvs/2009.75_blue_projection.csv', 'data_all': 0.0, 'fname_all': './matrix_csvs/2009.75_all_projection.csv'}\n",
      "{'data_b': 0.0, 'data_g': 0.0, 'year': 2010, 'fname_g': './matrix_csvs/2010.75_green_projection.csv', 'fname_b': './matrix_csvs/2010.75_blue_projection.csv', 'data_all': 0.0, 'fname_all': './matrix_csvs/2010.75_all_projection.csv'}\n",
      "{'data_b': 0.0, 'data_g': 0.0, 'year': 2011, 'fname_g': './matrix_csvs/2011.5_green_projection.csv', 'fname_b': './matrix_csvs/2011.5_blue_projection.csv', 'data_all': 0.0, 'fname_all': './matrix_csvs/2011.5_all_projection.csv'}\n",
      "{'data_b': 0.0, 'data_g': 0.0, 'year': 2012, 'fname_g': './matrix_csvs/2012.75_green_projection.csv', 'fname_b': './matrix_csvs/2012.75_blue_projection.csv', 'data_all': 0.0, 'fname_all': './matrix_csvs/2012.75_all_projection.csv'}\n",
      "{'data_b': 0.0, 'data_g': 0.0, 'year': 2013, 'fname_g': './matrix_csvs/2013.75_green_projection.csv', 'fname_b': './matrix_csvs/2013.75_blue_projection.csv', 'data_all': 0.0, 'fname_all': './matrix_csvs/2013.75_all_projection.csv'}\n",
      "{'data_b': 0.0, 'data_g': 0.0, 'year': 2014, 'fname_g': './matrix_csvs/2014.75_green_projection.csv', 'fname_b': './matrix_csvs/2014.75_blue_projection.csv', 'data_all': 0.0, 'fname_all': './matrix_csvs/2014.75_all_projection.csv'}\n",
      "{'data_b': 0.0, 'data_g': 0.0, 'year': 2015, 'fname_g': './matrix_csvs/2015.75_green_projection.csv', 'fname_b': './matrix_csvs/2015.75_blue_projection.csv', 'data_all': 0.0, 'fname_all': './matrix_csvs/2015.75_all_projection.csv'}\n",
      "{'data_b': 0.0, 'data_g': 0.0, 'year': 2016, 'fname_g': './matrix_csvs/2016.75_green_projection.csv', 'fname_b': './matrix_csvs/2016.75_blue_projection.csv', 'data_all': 0.0, 'fname_all': './matrix_csvs/2016.75_all_projection.csv'}\n",
      "{'data_b': 0.0, 'data_g': 0.0, 'year': 2017, 'fname_g': './matrix_csvs/2017.75_green_projection.csv', 'fname_b': './matrix_csvs/2017.75_blue_projection.csv', 'data_all': 0.0, 'fname_all': './matrix_csvs/2017.75_all_projection.csv'}\n"
     ]
    }
   ],
   "source": [
    "\"\"\" get a dict going with files and data \"\"\"\n",
    "data = {}\n",
    "years = range(2007,2018)\n",
    "years_m = [2007,2008,2009,2010,2012,2013,2014,2015,2016,2017]\n",
    "for y in years_m:\n",
    "    fname_all = [f for f in all_MW_files if ((str(y)+'.75') in f)][0]\n",
    "    fname_g = [f for f in g_MW_files if ((str(y)+'.75') in f)][0]\n",
    "    fname_b = [f for f in b_MW_files if ((str(y)+'.75') in f)][0]\n",
    "    data[y]={'year':y,\n",
    "             'fname_all':fname_all,\n",
    "             'data_all':0.0,\n",
    "             'fname_g':fname_g,\n",
    "             'data_g':0.0,\n",
    "             'fname_b':fname_b,\n",
    "             'data_b':0.0}\n",
    "\n",
    "    #2011 notes\n",
    "data[2011]={'data_b': 0.0,\n",
    "            'data_g': 0.0,\n",
    "            'year': 2011,\n",
    "            'fname_g': './matrix_csvs/2011.5_green_projection.csv',\n",
    "            'fname_b': './matrix_csvs/2011.5_blue_projection.csv',\n",
    "            'data_all': 0.0,\n",
    "            'fname_all': './matrix_csvs/2011.5_all_projection.csv'}\n",
    "    \n",
    "for y in years:\n",
    "    print data[y]"
   ]
  },
  {
   "cell_type": "code",
   "execution_count": 4,
   "metadata": {},
   "outputs": [
    {
     "name": "stdout",
     "output_type": "stream",
     "text": [
      "2007\n",
      "(219, 219)\n",
      "(143, 143)\n",
      "(156, 156)\n",
      "2008\n",
      "(221, 221)\n",
      "(150, 150)\n",
      "(159, 159)\n",
      "2009\n",
      "(221, 221)\n",
      "(157, 157)\n",
      "(159, 159)\n",
      "2010\n",
      "(222, 222)\n",
      "(157, 157)\n",
      "(160, 160)\n",
      "2011\n",
      "(223, 223)\n",
      "(161, 161)\n",
      "(160, 160)\n",
      "2012\n",
      "(224, 224)\n",
      "(172, 172)\n",
      "(160, 160)\n",
      "2013\n",
      "(225, 225)\n",
      "(180, 180)\n",
      "(161, 161)\n",
      "2014\n",
      "(226, 226)\n",
      "(183, 183)\n",
      "(162, 162)\n",
      "2015\n",
      "(226, 226)\n",
      "(191, 191)\n",
      "(162, 162)\n",
      "2016\n",
      "(226, 226)\n",
      "(198, 198)\n",
      "(163, 163)\n",
      "2017\n",
      "(226, 226)\n",
      "(201, 201)\n",
      "(163, 163)\n"
     ]
    }
   ],
   "source": [
    "\"\"\" read in all the data \"\"\"\n",
    "for y in years:\n",
    "    print y\n",
    "    data[y]['data_all']=pd.read_csv(data[y]['fname_all'], encoding='utf-8').set_index('Unnamed: 0')\n",
    "    data[y]['data_g']=pd.read_csv(data[y]['fname_g'], encoding='utf-8').set_index('Unnamed: 0')\n",
    "    data[y]['data_b']=pd.read_csv(data[y]['fname_b'], encoding='utf-8').set_index('Unnamed: 0')\n",
    "    #data[y]['data_ff'] = data[y]['data_all'].subtract(data[y]['data_g'], fill_value=0.0).subtract(data[y]['data_b'], fill_value=0.0)\n",
    "    print data[y]['data_all'].shape\n",
    "    print data[y]['data_g'].shape\n",
    "    print data[y]['data_b'].shape"
   ]
  },
  {
   "cell_type": "code",
   "execution_count": 5,
   "metadata": {},
   "outputs": [
    {
     "name": "stdout",
     "output_type": "stream",
     "text": [
      "[ 1.          1.          0.97749637  0.99303004  0.99621153  0.99263896\n",
      "  1.          0.99491477  0.9826667   0.9690032   0.99236843  0.98700732\n",
      "  0.99677501  0.98367655  0.99256179  0.97751619  1.          0.99591302\n",
      "  0.99890577  1.          0.99350091  1.          0.9995864   0.99988506\n",
      "  1.          1.          0.99981587  0.99078674  1.          0.99818629\n",
      "  0.97489527  1.          1.          0.98171394  0.98686624  0.997251\n",
      "  0.99988598  1.          1.          0.99882198  0.99555422  0.99275735\n",
      "  1.          0.9985598   0.98296629  0.99532499  1.          0.990652\n",
      "  0.99856642  0.96002367  0.99536882  0.99668824  0.98869585  1.          1.\n",
      "  0.9985597   0.99981288  0.98888614  1.          1.          1.          1.\n",
      "  1.          0.99890717  0.99833102  0.99326825  1.          0.96060752\n",
      "  0.97253824  1.          0.99839339  0.98065739  0.99990086  1.          1.\n",
      "  0.97650699  1.          1.          1.          1.          0.99853285\n",
      "  0.99976318  0.97548768  0.99887298  1.          1.          0.95401776\n",
      "  1.          1.          1.          1.          1.          0.97372229\n",
      "  1.          1.          1.          1.          1.          1.\n",
      "  0.99613068  1.          1.          1.          1.          1.\n",
      "  0.97606263  0.99675765  1.          1.          1.          0.98257637\n",
      "  0.80646066  1.          1.          0.99986318  0.93438381  1.\n",
      "  0.99371682  1.          1.          1.          1.          1.          1.\n",
      "  1.          1.          1.          1.          1.          0.61024983\n",
      "  1.          1.          1.          1.          1.          1.          1.\n",
      "  0.97725423  1.          0.9970084   1.          1.          1.\n",
      "  0.99855328  1.          0.97974792  1.          1.          0.99501519\n",
      "  1.          1.          1.          0.82658023  1.          0.9540438\n",
      "  0.99681489  1.          1.          1.          1.          1.          1.\n",
      "  1.          1.          0.98975751  0.99598924  1.          1.          1.\n",
      "  1.          1.          1.          1.          1.          1.          1.\n",
      "  1.          1.          1.          1.          1.          0.99713954\n",
      "  1.          0.98767834  1.          0.97021935  1.          1.          1.\n",
      "  0.73346583  1.          1.          1.          1.          1.          1.\n",
      "  1.          1.          1.          1.          1.          1.          1.\n",
      "  1.          1.          1.          1.          1.          1.          1.\n",
      "  1.          1.          1.          1.          1.          1.\n",
      "  0.96751339  1.          1.        ]\n"
     ]
    },
    {
     "data": {
      "image/png": "[encoded data removed]",
      "text/plain": [
       "<matplotlib.figure.Figure at 0x7fc782932590>"
      ]
     },
     "metadata": {},
     "output_type": "display_data"
    },
    {
     "name": "stdout",
     "output_type": "stream",
     "text": [
      "[ 1.          1.          0.98162935  0.99306569  0.99582705  0.99264669\n",
      "  0.99800836  1.          0.97500047  0.99982577  0.9950641   0.99134234\n",
      "  0.98956975  0.97399419  1.          0.99006799  0.99988988  0.98718818\n",
      "  0.99640459  0.98877064  0.99290703  0.97319312  1.          0.99656387\n",
      "  0.99890731  1.          0.99360127  1.          0.99964226  0.99988499\n",
      "  1.          1.          0.99775586  1.          0.9731451   1.          1.\n",
      "  0.98686816  0.99702715  0.99989828  1.          1.          0.99884713\n",
      "  0.98346538  0.99223359  1.          0.99866282  0.98316123  0.99342618\n",
      "  1.          1.          0.99061949  0.99862542  0.96001574  0.99482907\n",
      "  0.99668824  0.98550094  1.          0.99859121  0.98898156  1.          1.\n",
      "  1.          1.          1.          0.99891093  0.99993739  0.9932462\n",
      "  0.99997656  0.99877278  0.96060752  0.98206814  1.          0.99832937\n",
      "  1.          0.97664619  1.          1.          0.99056463  1.          1.\n",
      "  1.          1.          1.          0.99983846  0.97592355  0.99887342\n",
      "  1.          1.          0.94551076  1.          0.86314354  0.99432319\n",
      "  1.          1.          1.          1.          1.          1.          1.\n",
      "  1.          0.99558271  1.          1.          1.          1.          1.\n",
      "  1.          0.9958202   1.          0.99709491  1.          1.          1.\n",
      "  0.75322939  1.          1.          0.93513433  1.          0.99388792\n",
      "  0.98379944  0.99416304  0.99832683  0.99199162  1.          0.97056659\n",
      "  1.          1.          1.          1.          1.          1.          1.\n",
      "  1.          0.59865162  1.          1.          1.          1.          1.\n",
      "  1.          0.97646132  1.          1.          1.          0.98217559\n",
      "  0.99854471  1.          0.97618027  1.          1.          0.99532563\n",
      "  1.          1.          0.82755087  1.          1.          0.93694445\n",
      "  0.99684144  1.          1.          1.          1.          1.          1.\n",
      "  1.          0.97723994  0.99449729  1.          1.          1.          1.\n",
      "  1.          1.          1.          1.          0.99431916  1.          1.\n",
      "  1.          1.          0.99714206  1.          0.98798796  1.\n",
      "  0.97031446  1.          1.          1.          1.          0.72424234\n",
      "  1.          1.          1.          1.          1.          1.          1.\n",
      "  1.          1.          1.          1.          1.          1.          1.\n",
      "  1.          1.          1.          1.          0.92793486  1.          1.\n",
      "  1.          1.          1.          1.          1.          1.\n",
      "  0.96751339  1.          1.        ]\n"
     ]
    },
    {
     "data": {
      "image/png": "[encoded data removed]",
      "text/plain": [
       "<matplotlib.figure.Figure at 0x7fc779e8a8d0>"
      ]
     },
     "metadata": {},
     "output_type": "display_data"
    },
    {
     "name": "stdout",
     "output_type": "stream",
     "text": [
      "[ 1.          1.          0.955234    0.99428921  0.99375563  0.99339233\n",
      "  0.99721512  1.          0.95738191  0.9998377   0.9953065   0.99042226\n",
      "  0.98927467  0.97487353  1.          0.98989439  0.99989932  0.97463509\n",
      "  0.98479789  0.99639612  0.94957525  0.99292563  0.973606    1.\n",
      "  0.99867641  0.99884246  1.          0.99331339  1.          0.99965454\n",
      "  0.99988642  1.          0.99741873  0.99776348  1.          1.          1.\n",
      "  0.98686816  0.99735574  0.99990896  1.          1.          0.99916855\n",
      "  0.98163267  0.99110647  1.          0.99872783  0.98443461  0.99580076\n",
      "  1.          1.          0.99089886  0.99865895  0.9658328   0.99381655\n",
      "  1.          0.98522166  1.          0.9670568   0.99844684  0.9877557   1.\n",
      "  1.          1.          1.          1.          0.99907386  1.\n",
      "  0.99344523  0.99997656  0.99964297  0.95865623  0.98174619  1.\n",
      "  0.99794278  1.          0.973542    1.          1.          0.96824694\n",
      "  0.99854951  1.          1.          1.          1.          1.\n",
      "  0.99984182  0.99890541  0.99868518  1.          0.94551076  1.\n",
      "  0.86314354  0.9943568   1.          1.          1.          1.          1.\n",
      "  1.          1.          1.          1.          0.99420343  1.          1.\n",
      "  1.          1.          1.          1.          0.99808508  1.\n",
      "  0.99861415  0.99725641  1.          0.80061504  1.          1.          1.\n",
      "  0.93830654  1.          0.95771657  0.99425581  0.99832683  0.99130591\n",
      "  1.          0.97056659  1.          1.          1.          1.          1.\n",
      "  1.          1.          1.          0.59371752  1.          1.          1.\n",
      "  1.          1.          1.          0.97656249  1.          1.          1.\n",
      "  1.          0.98384197  0.99859845  1.          1.          0.97607562\n",
      "  1.          1.          0.99562286  0.8674145   1.          1.          1.\n",
      "  0.93708028  0.99684139  1.          1.          1.          1.          1.\n",
      "  1.          0.99723333  1.          0.97723994  0.99449729  0.98373679\n",
      "  1.          1.          1.          1.          1.          0.77439376\n",
      "  1.          0.98976554  1.          1.          1.          1.          1.\n",
      "  0.98798796  1.          0.97000966  1.          1.          1.\n",
      "  0.78391713  1.          1.          1.          1.          1.          1.\n",
      "  1.          1.          1.          1.          1.          1.          1.\n",
      "  1.          1.          1.          1.          0.92655353  1.          1.\n",
      "  1.          1.          0.66719286  1.          1.          1.          1.\n",
      "  0.96751339  1.        ]\n"
     ]
    },
    {
     "data": {
      "image/png": "[encoded data removed]",
      "text/plain": [
       "<matplotlib.figure.Figure at 0x7fc779e3d750>"
      ]
     },
     "metadata": {},
     "output_type": "display_data"
    },
    {
     "name": "stdout",
     "output_type": "stream",
     "text": [
      "[ 1.          1.          0.95803754  0.99440371  0.99337354  0.99313502\n",
      "  0.99611357  1.          0.95396857  0.99985304  0.99545966  0.99161603\n",
      "  0.98664058  0.97638202  1.          0.98861278  0.98968799  0.99991059\n",
      "  0.97435363  0.99003955  0.99918119  0.95018788  0.99288858  0.98007891\n",
      "  0.98512029  1.          0.99870544  0.998858    1.          0.99357886\n",
      "  1.          0.99967529  0.99988731  0.99708049  1.          0.99790205\n",
      "  1.          1.          1.          0.98686816  0.9935805   0.9929704   1.\n",
      "  1.          0.98069972  1.          0.99868229  0.98545563  0.99780624\n",
      "  0.91466888  1.          0.98855398  0.99689145  0.967066    0.99105728\n",
      "  1.          0.98437753  1.          0.98505526  0.99454915  0.98876028\n",
      "  0.98265122  1.          0.99169295  1.          1.          1.          1.\n",
      "  1.          0.99994838  0.99969264  0.9955815   0.99349327  0.99997677\n",
      "  0.96009941  0.99986801  0.99716719  1.          0.97133283  1.\n",
      "  0.97295009  0.91750681  0.99857148  1.          1.          1.          1.\n",
      "  1.          0.9998303   0.99892523  0.99878352  1.          0.94551076\n",
      "  1.          0.86314354  0.9943568   0.99988602  1.          1.          1.\n",
      "  1.          1.          0.99945621  1.          1.          0.97564066\n",
      "  1.          1.          1.          1.          1.          1.\n",
      "  0.99808647  1.          0.99862446  0.99726722  1.          0.7734781   1.\n",
      "  1.          1.          0.94593887  1.          0.95855936  0.99333233\n",
      "  0.99832809  1.          1.          0.97056659  1.          1.\n",
      "  0.93221305  1.          1.          1.          1.          1.\n",
      "  0.56174338  1.          0.94660727  1.          1.          0.99120344\n",
      "  1.          0.97656501  1.          1.          1.          1.\n",
      "  0.98384197  1.          1.          0.97113228  1.          1.\n",
      "  0.86741405  1.          1.          1.          0.93708028  0.99685226\n",
      "  1.          0.99953615  0.99982334  1.          1.          0.99729332\n",
      "  1.          0.97724923  0.99464646  0.9836379   1.          1.          1.\n",
      "  1.          1.          0.7740613   1.          0.96245402  1.          1.\n",
      "  1.          1.          0.987998    1.          0.97002845  1.          1.\n",
      "  1.          0.99859606  0.99140083  0.76941474  1.          1.          1.\n",
      "  1.          1.          1.          1.          1.          1.          1.\n",
      "  1.          1.          1.          1.          1.          1.          1.\n",
      "  1.          1.          0.92655353  1.          1.          1.          1.\n",
      "  1.          1.          1.          1.          1.          0.96723339]\n"
     ]
    },
    {
     "data": {
      "image/png": "[encoded data removed]",
      "text/plain": [
       "<matplotlib.figure.Figure at 0x7fc779da81d0>"
      ]
     },
     "metadata": {},
     "output_type": "display_data"
    },
    {
     "name": "stdout",
     "output_type": "stream",
     "text": [
      "[ 1.          1.          0.95651567  0.99440371  0.99203369  0.99407756\n",
      "  0.99813834  1.          0.94282047  0.99975729  0.99481326  0.98668378\n",
      "  0.98206266  0.97238896  0.99880541  0.98666062  0.98684785  0.99991858\n",
      "  0.97268554  0.98985023  0.99918893  0.95123829  0.99109988  0.98000107\n",
      "  0.98152779  0.92522054  0.99874131  0.99882512  1.          0.99515424\n",
      "  1.          0.99969229  0.99988957  0.99494963  1.          0.99801378\n",
      "  1.          1.          1.          0.98857986  0.98609887  0.99342014\n",
      "  0.99344992  1.          1.          0.98409448  0.98014156  1.\n",
      "  0.99693048  0.99886707  0.98631847  0.99782338  0.94697001  1.\n",
      "  0.96898066  0.99057103  1.          1.          0.97702919  0.99302208\n",
      "  0.99570367  0.99059445  0.98210221  1.          0.99173945  1.          1.\n",
      "  1.          0.98959916  1.          0.99954973  0.9997496   0.99571151\n",
      "  0.99400557  0.99997677  0.96014718  0.97233692  1.          0.99723361\n",
      "  1.          0.96325118  0.99832946  1.          0.97405978  0.95265339\n",
      "  0.99858178  1.          1.          1.          1.          1.\n",
      "  0.99983042  1.          0.94551076  1.          0.86314354  0.9943568\n",
      "  0.99988656  1.          1.          1.          1.          0.98956562\n",
      "  1.          0.99945621  1.          1.          1.          1.          1.\n",
      "  1.          1.          1.          1.          0.99808647  1.\n",
      "  0.99866067  0.99740366  1.          0.82348378  1.          1.          1.\n",
      "  0.9500482   1.          1.          0.99832809  1.          1.\n",
      "  0.96920708  1.          1.          0.92302994  1.          1.          1.\n",
      "  1.          0.9700947   0.55164705  0.93537421  0.94061686  1.          1.\n",
      "  0.99120344  1.          0.9790141   1.          1.          1.          1.\n",
      "  0.98384197  1.          1.          0.97268602  1.          1.\n",
      "  0.86741405  1.          1.          1.          0.93756637  0.99694437\n",
      "  1.          0.99899025  0.99982553  1.          1.          0.99729969\n",
      "  1.          0.96264187  0.99477208  0.98647847  1.          1.          1.\n",
      "  1.          1.          0.77793708  1.          0.95172467  0.98755406\n",
      "  1.          1.          1.          1.          0.987998    1.\n",
      "  0.97002845  1.          1.          0.99859025  1.          0.77278929\n",
      "  1.          1.          1.          1.          1.          1.          1.\n",
      "  1.          1.          1.          1.          0.87288215  1.          1.\n",
      "  1.          1.          0.27710843  0.98444522  1.          1.          1.\n",
      "  0.95035016  1.          1.          1.          1.          1.          1.\n",
      "  1.          0.96723339]\n"
     ]
    },
    {
     "data": {
      "image/png": "[encoded data removed]",
      "text/plain": [
       "<matplotlib.figure.Figure at 0x7fc779d1ee90>"
      ]
     },
     "metadata": {},
     "output_type": "display_data"
    },
    {
     "name": "stdout",
     "output_type": "stream",
     "text": [
      "[ 1.          1.          0.96133948  0.99452308  0.99304586  0.99364933\n",
      "  0.94823983  0.99815052  1.          0.99978455  0.99523447  0.99416329\n",
      "  0.97846954  0.97519121  0.99397637  0.98602563  0.99944609  0.98181581\n",
      "  0.97078002  0.98866566  0.9990971   0.94757219  0.96318044  0.98179427\n",
      "  0.98192166  0.99096352  0.92485832  0.99659233  0.99844973  1.          0.9961856\n",
      "  1.          0.99971494  0.99987228  0.99550834  0.99824026  0.99813303\n",
      "  1.          1.          0.98609887  0.99279612  0.99343865  1.          1.\n",
      "  1.          0.98195488  0.9764388   1.          0.99698479  0.99897521\n",
      "  0.98736027  0.99786613  0.94649135  0.99762095  0.99085627  1.          1.\n",
      "  1.          0.97495544  0.99256142  0.99144919  0.99138114  0.98350896\n",
      "  1.          0.99171853  1.          1.          0.9743249   1.\n",
      "  0.99313096  1.          0.99512792  0.99908121  0.99592149  0.98730162\n",
      "  0.99997675  0.96117954  0.96527993  1.          0.9973094   1.          1.\n",
      "  0.9532388   1.          0.99834222  0.97434546  1.          0.95579419\n",
      "  0.97884699  1.          1.          1.          1.          1.\n",
      "  0.99983115  1.          0.9540068   1.          0.86314354  0.99433565\n",
      "  0.99989083  1.          1.          1.          0.99283445  1.\n",
      "  0.99945629  1.          1.          0.99988263  1.          1.          1.\n",
      "  1.          1.          0.99667782  1.          0.98814836  0.99726931\n",
      "  1.          0.83570721  1.          1.          1.          0.95776137\n",
      "  1.          1.          1.          0.9983282   1.          0.96920708\n",
      "  1.          1.          0.92312391  1.          0.99992876  1.          1.\n",
      "  1.          0.9700947   0.55040271  0.92695293  0.94603899  1.          1.\n",
      "  0.97321864  1.          0.98225403  0.99829814  1.          1.          1.\n",
      "  0.98384197  1.          1.          0.96950732  0.96759541  0.99738552\n",
      "  0.86982933  1.          1.          1.          0.93665595  0.99681568\n",
      "  1.          0.99983198  1.          1.          0.99731422  1.\n",
      "  0.96953378  0.99541561  0.98733352  1.          1.          1.          1.\n",
      "  0.99859156  1.          0.77640679  1.          1.          0.9511586\n",
      "  0.98755406  1.          1.          1.          0.99019033  1.          1.\n",
      "  0.97000502  1.          1.          1.          0.77249541  0.98552833\n",
      "  1.          1.          1.          1.          1.          1.          1.\n",
      "  1.          1.          1.          1.          1.          1.\n",
      "  0.91383261  1.          1.          0.27710843  1.          1.          1.\n",
      "  0.95035016  1.          1.          1.          1.          1.          1.\n",
      "  0.96723339]\n"
     ]
    },
    {
     "data": {
      "image/png": "[encoded data removed]",
      "text/plain": [
       "<matplotlib.figure.Figure at 0x7fc779cb4e90>"
      ]
     },
     "metadata": {},
     "output_type": "display_data"
    },
    {
     "name": "stdout",
     "output_type": "stream",
     "text": [
      "[ 1.          1.          0.95925272  0.99453951  0.99359568  0.95112984\n",
      "  0.99381973  0.99515984  0.9970528   1.          0.99971629  0.96366017\n",
      "  0.95617699  0.98811663  0.97558182  0.9911759   0.99993667  0.99188238\n",
      "  0.96780488  0.98407231  0.98240967  0.99452502  0.97935626  0.94739085\n",
      "  0.97995868  0.97896649  0.98855821  0.9247229   0.9969859   0.99773911\n",
      "  1.          0.9961849   1.          0.99973254  0.9997701   0.99396402\n",
      "  0.99303825  0.99818199  0.95745351  1.          0.9434845   0.98609887\n",
      "  0.99121887  0.99331157  1.          1.          1.          0.97966237\n",
      "  0.97463818  1.          0.996541    0.99875478  0.99785957  0.95690874\n",
      "  0.99766288  0.99791141  0.98841683  1.          1.          1.\n",
      "  0.97400244  0.99532719  0.9855586   0.99222794  0.99882726  0.99158149\n",
      "  0.97672404  1.          0.97540784  1.          0.99317501  1.\n",
      "  0.98880205  0.99899824  0.99593197  0.95343632  0.99627342  0.94448608\n",
      "  0.97273128  0.99999647  0.99729639  0.96540627  1.          1.          1.\n",
      "  0.94626315  1.          0.9412192   0.99835319  0.93130783  1.\n",
      "  0.97731765  1.          1.          0.97018996  1.          0.99989468\n",
      "  0.99917734  1.          0.96795443  1.          0.86314354  0.99441237\n",
      "  1.          1.          1.          1.          0.98890382  1.          1.\n",
      "  1.          1.          0.99988135  0.9243143   1.          1.          1.\n",
      "  0.98064246  1.          0.99682475  1.          0.98790755  0.99724112\n",
      "  1.          0.86196547  0.99061884  1.          0.99955026  0.9643895   1.\n",
      "  1.          1.          1.          0.99848895  1.          0.96920708\n",
      "  1.          1.          1.          0.99993082  1.          1.          1.\n",
      "  0.9700947   0.54993753  0.92627835  0.95578083  1.          1.          1.\n",
      "  0.94153358  0.96425232  0.9608465   1.          0.98297997  0.99649111\n",
      "  0.99966729  1.          1.          0.98384197  1.          0.96573332\n",
      "  0.9700455   0.99738552  0.86982933  1.          1.          0.93730179\n",
      "  0.9968188   1.          0.99983206  0.98917541  1.          0.98691217\n",
      "  0.99065196  1.          0.96763781  1.          1.          1.          1.\n",
      "  0.99856594  1.          0.77104468  1.          1.          0.94565391\n",
      "  1.          1.          1.          1.          0.99080158  1.          1.\n",
      "  1.          1.          1.          0.87250514  0.98555347  1.          1.\n",
      "  0.98217481  1.          1.          1.          1.          1.          1.\n",
      "  1.          1.          1.          0.86832395  1.          1.\n",
      "  0.27710843  1.          1.          0.95035016  1.          1.          1.\n",
      "  1.          1.          1.          0.96723339]\n"
     ]
    },
    {
     "data": {
      "image/png": "[encoded data removed]",
      "text/plain": [
       "<matplotlib.figure.Figure at 0x7fc779e2ad90>"
      ]
     },
     "metadata": {},
     "output_type": "display_data"
    },
    {
     "name": "stdout",
     "output_type": "stream",
     "text": [
      "[ 0.99492902  0.99389229  0.95539587  0.99304282  0.99536203  0.99808679\n",
      "  1.          0.99964369  0.96280177  0.95508276  0.98565441  0.96833079\n",
      "  0.96562244  1.          0.99911581  0.95783945  0.99008595  0.9824914\n",
      "  0.9820158   0.99467526  0.96813447  0.94777231  0.97716827  0.97951461\n",
      "  0.98830321  0.93533612  0.99700488  0.99726446  1.          0.99665655\n",
      "  0.99431085  0.99962591  0.99926391  0.9932016   0.97995986  0.99822296\n",
      "  0.96602012  1.          0.94633994  0.98625555  0.9909598   0.99369334\n",
      "  1.          0.99913016  1.          0.9788381   0.97010587  1.\n",
      "  0.99292806  0.99880793  1.          0.99821332  0.95958584  0.99766342\n",
      "  0.99822617  0.9885188   1.          1.          1.          0.97399612\n",
      "  0.99413752  0.99229754  0.98174696  0.99883023  0.9999542   0.9777682   1.\n",
      "  0.97659862  1.          0.9933712   1.          0.98614967  0.99863103\n",
      "  0.99611855  0.9531946   0.99639249  0.97599265  0.96087274  0.99947387\n",
      "  0.99144885  0.96538951  1.          1.          1.          0.94197951\n",
      "  0.99995649  0.84231197  0.9975125   0.99837089  0.93051903  0.91104538\n",
      "  0.97882271  1.          1.          0.97380064  1.          0.99989468\n",
      "  0.99867008  1.          0.96795443  0.99832054  0.79968281  0.99441237\n",
      "  1.          1.          1.          1.          1.          1.          1.\n",
      "  1.          0.92592255  1.          0.99234639  0.96001358  1.\n",
      "  0.88784287  1.          0.99121406  1.          0.98790813  0.9974678   1.\n",
      "  0.92943024  0.99061884  1.          0.99955013  1.          1.          1.\n",
      "  1.          0.94295363  0.99858892  1.          0.96920708  0.99041537\n",
      "  1.          1.          0.99992727  1.          1.          1.          0.9700947\n",
      "  0.64247495  1.          0.96040075  1.          0.90419122  1.          0.9037664\n",
      "  0.7933087   0.9610391   0.99573248  0.99996417  0.90559659  0.99541738\n",
      "  0.99966828  1.          1.          0.98797697  1.          0.96569772\n",
      "  0.30340214  0.97011197  0.99738552  0.90475627  1.          1.\n",
      "  0.93991491  0.99633847  1.          0.9998345   0.99070962  1.\n",
      "  0.98235523  1.          0.89485079  1.          1.          1.          1.\n",
      "  0.99795305  1.          0.76995019  1.          1.          0.94567781\n",
      "  1.          1.          0.85631136  1.          0.99080158  1.          1.\n",
      "  1.          1.          1.          0.86999055  0.98584737  1.          1.\n",
      "  0.98172466  1.          1.          1.          1.          0.99220621\n",
      "  1.          1.          1.          1.          0.89762883  1.          1.\n",
      "  0.27710843  1.          1.          1.          0.87167796  1.\n",
      "  0.99881863  1.          0.97732584  1.          0.99132394  0.96705066]\n"
     ]
    },
    {
     "data": {
      "image/png": "[encoded data removed]",
      "text/plain": [
       "<matplotlib.figure.Figure at 0x7fc779c3f190>"
      ]
     },
     "metadata": {},
     "output_type": "display_data"
    },
    {
     "name": "stdout",
     "output_type": "stream",
     "text": [
      "[ 0.99616673  0.93496348  1.          0.99684613  0.99464645  0.9522503\n",
      "  0.99680985  1.          0.99962646  0.99969492  0.95073857  0.9485583\n",
      "  0.99970919  0.95224766  0.99807538  0.98901631  0.93881001  0.96657121\n",
      "  1.          0.98542924  0.96341298  0.99531739  0.98625555  0.98952465\n",
      "  0.99943853  0.99256856  1.          0.99924596  1.          0.97604439\n",
      "  0.97444581  1.          0.95492653  0.94710196  1.          0.9400474\n",
      "  0.99008196  0.88108932  0.99884028  0.99820975  0.96404254  0.99757144\n",
      "  1.          0.99823059  0.99016962  1.          1.          1.\n",
      "  0.97840813  0.93493075  0.97310816  0.99371905  0.99492817  0.99273437\n",
      "  0.97719827  0.99827973  0.9999519   0.99137429  0.97617505  1.\n",
      "  0.97733077  1.          0.9933712   1.          0.98089291  0.96531838\n",
      "  0.99869592  0.99626431  0.94455941  0.99639538  0.96899694  0.96058877\n",
      "  0.97621258  0.99950679  0.97403242  1.          0.96687491  1.          1.\n",
      "  0.95519755  0.9999565   0.8289443   0.99960957  0.99818344  0.86011133\n",
      "  0.90699063  0.96875193  0.97877345  0.96938832  1.          1.          0.980897\n",
      "  1.          0.99989468  0.99132394  0.99880806  0.98601301  1.\n",
      "  0.98799122  0.96860298  0.99838345  0.79968281  0.99792627  0.99998671\n",
      "  1.          1.          1.          0.99902093  1.          1.\n",
      "  0.99917849  1.          1.          0.98864176  1.          0.92509524\n",
      "  1.          1.          0.87772082  1.          0.89412937  1.\n",
      "  0.99754457  1.          0.8851362   0.99061884  1.          0.99955013\n",
      "  1.          1.          1.          0.94197087  0.99864646  1.\n",
      "  0.96920708  1.          0.99039785  1.          0.91088188  0.85958892\n",
      "  0.95462418  1.          0.9999156   1.          1.          0.97097606\n",
      "  1.          0.97054636  0.64130343  1.          1.          0.96040075\n",
      "  0.90419122  1.          0.79980317  0.99984213  0.99573409  0.99996717\n",
      "  0.92541516  0.99545337  0.99920747  1.          1.          0.98805613\n",
      "  1.          0.96557436  0.3010992   0.99738552  0.90623817  1.          0.9930382\n",
      "  1.          0.96524059  0.99598047  1.          1.          1.\n",
      "  0.87345579  1.          1.          1.          1.          0.99792375\n",
      "  0.78288152  1.          1.          1.          1.          0.94608719\n",
      "  1.          1.          0.84340365  1.          0.99080158  1.          1.\n",
      "  1.          1.          0.97986967  0.99317131  1.          1.\n",
      "  0.98172466  1.          1.          1.          0.99460153  1.          1.\n",
      "  1.          1.          0.90096189  1.          0.27710843  1.          1.\n",
      "  1.          0.87167796  1.          0.99881863  1.          1.\n",
      "  0.97731101  0.99368474  0.96634683  0.95503462]\n"
     ]
    },
    {
     "data": {
      "image/png": "[encoded data removed]",
      "text/plain": [
       "<matplotlib.figure.Figure at 0x7fc78291ced0>"
      ]
     },
     "metadata": {},
     "output_type": "display_data"
    },
    {
     "name": "stdout",
     "output_type": "stream",
     "text": [
      "[ 0.99491988  0.99301802  0.95294638  0.98995231  0.994774    0.9971492   1.\n",
      "  0.99677407  1.          0.99928412  0.96970739  0.98337676  0.96914073\n",
      "  0.98641286  0.97608882  1.          0.99930476  0.96763545  0.9882261\n",
      "  0.97191811  0.94838996  0.9927519   0.975548    0.95498977  0.97227757\n",
      "  0.97827807  0.98269697  0.93501431  0.99624137  0.99678992  0.9995454   1.\n",
      "  0.99623885  1.          0.99962324  0.99972414  0.95482607  0.92687648\n",
      "  0.99978102  0.98821806  0.92520875  0.99821342  0.987664    0.9888254\n",
      "  0.99310432  1.          1.          0.97202202  0.99852459  0.95540232\n",
      "  0.9404247   1.          0.99888933  0.99825003  0.99758154  0.9982448\n",
      "  0.88452098  0.99008067  1.          1.          0.99531338  0.93036645\n",
      "  0.97175656  0.99430773  0.9457979   0.99335935  0.97417429  0.9982804\n",
      "  0.99995183  0.97617505  1.          0.9806443   1.          0.99343412\n",
      "  1.          0.97872674  0.99892541  0.9993448   0.92036482  0.99550292\n",
      "  0.93512529  0.96416178  1.          0.99786191  0.97400536  1.\n",
      "  0.96133902  1.          1.          0.93660573  0.99995268  0.815818\n",
      "  0.99961081  0.99846126  0.9099983   0.96875193  0.97150056  1.          1.\n",
      "  0.98202763  0.99001125  0.99989484  0.98640375  0.99878031  1.\n",
      "  0.98371725  0.97297117  0.79968281  0.99792725  0.9999872   1.\n",
      "  0.96419467  1.          0.99031839  1.          1.          1.\n",
      "  0.98729671  1.          0.92614583  1.          1.          0.87130944\n",
      "  1.          0.89632649  1.          0.84066453  0.97736059  0.94914733\n",
      "  0.99061884  1.          0.85050193  1.          1.          1.          1.\n",
      "  0.95147451  0.99864646  1.          0.96920708  1.          0.99039785\n",
      "  1.          0.92398863  0.96124102  1.          0.99991451  1.          1.\n",
      "  0.96109413  1.          1.          0.97054636  0.64130343  1.\n",
      "  0.95283056  0.92147671  1.          0.79933781  0.99980311  0.99608324\n",
      "  0.99997011  0.92935471  0.99561811  0.99921157  1.          1.\n",
      "  0.98895134  1.          0.96557436  0.30097811  0.99738552  0.90623817\n",
      "  1.          0.9931977   1.          0.96526167  0.99623986  1.\n",
      "  0.98785387  1.          1.          0.87337336  1.          1.          1.\n",
      "  0.99775576  0.74850427  1.          1.          1.          1.          1.\n",
      "  1.          1.          0.84340365  1.          0.94141271  1.          1.\n",
      "  1.          0.97986967  0.99317131  1.          1.          0.98191947\n",
      "  1.          1.          1.          0.99568208  1.          1.          1.\n",
      "  1.          1.          0.89955546  1.          0.27710843  1.          1.\n",
      "  0.87167796  0.99823179  1.          1.          0.9879781   0.9662901 ]\n"
     ]
    },
    {
     "data": {
      "image/png": "[encoded data removed]",
      "text/plain": [
       "<matplotlib.figure.Figure at 0x7fc779c98e90>"
      ]
     },
     "metadata": {},
     "output_type": "display_data"
    },
    {
     "name": "stdout",
     "output_type": "stream",
     "text": [
      "[ 0.99951705  0.99430627  0.96634472  0.96361509  0.9948954   0.98698408\n",
      "  0.9947872   0.99728798  1.          0.99636153  1.          0.99893969\n",
      "  0.96430643  0.98105569  0.96692523  0.98765099  0.99989215  0.99867147\n",
      "  0.95759649  1.          0.9993357   0.96697321  0.98700085  0.97113107\n",
      "  0.94118531  0.99243607  0.97450372  0.9444694   0.97266463  0.98074411\n",
      "  0.97322312  0.93594697  0.99549276  0.99659291  0.99954402  1.\n",
      "  0.99200919  1.          0.99963409  0.99972811  0.93030316  0.9997812\n",
      "  0.9939818   0.98711311  0.92538948  0.99821342  0.98590358  0.98829031\n",
      "  0.99195595  1.          1.          0.9696523   0.95619907  0.98282041\n",
      "  0.94616479  1.          0.99834315  0.99637005  0.99830779  0.87248919\n",
      "  0.9902482   1.          1.          0.99560833  0.91248589  0.97179237\n",
      "  0.94963473  0.99879963  0.9729467   0.9958241   0.98675972  0.9770117   1.\n",
      "  0.99247789  1.          0.99318695  1.          0.98114447  0.99889078\n",
      "  0.99938004  0.92654115  0.99550292  0.98255181  0.93182597  1.\n",
      "  0.99587696  0.97392867  0.98168125  0.96398714  1.          1.\n",
      "  0.92098946  0.91112798  0.98420824  0.81183409  0.99848192  0.90591875\n",
      "  0.96957273  0.97327425  1.          1.          0.97735868  0.99248231\n",
      "  0.99989484  0.99209176  0.99859991  1.          0.88509251  0.98413699\n",
      "  0.97297117  0.79968281  0.99791112  0.99998728  1.          0.96443703\n",
      "  1.          0.99032795  1.          1.          1.          0.98806385\n",
      "  1.          0.92642519  1.          1.          1.          1.          1.\n",
      "  0.84766931  0.97736059  0.95398414  0.93690009  1.          0.84709591\n",
      "  0.99925599  1.          1.          1.          0.95147451  0.99865004\n",
      "  1.          0.98094331  0.91421543  1.          0.97232464  1.\n",
      "  0.92672422  1.          1.          0.99991461  1.          1.          1.\n",
      "  1.          0.9404382   0.64423789  1.          0.95820408  0.99783173\n",
      "  1.          1.          0.75813147  0.99980414  0.99626583  0.99997009\n",
      "  0.89845851  0.9954663   0.999218    1.          1.          0.96907338\n",
      "  1.          0.96402011  0.26738251  0.99738552  0.90615096  1.\n",
      "  0.99214225  1.          0.96525502  0.998993    1.          0.97615934\n",
      "  1.          1.          0.86919587  1.          1.          1.\n",
      "  0.73895983  0.93722863  1.          1.          1.          1.          1.\n",
      "  0.94129056  1.          1.          1.          1.          0.99311357\n",
      "  0.96549863  0.99317131  1.          1.          1.          1.          1.\n",
      "  1.          1.          1.          1.          1.          0.89955546\n",
      "  1.          0.27710843  0.97946757  1.          0.87167796  1.          1.\n",
      "  0.98797409  0.9930397   0.96603462  0.95308581]\n"
     ]
    },
    {
     "data": {
      "image/png": "[encoded data removed]",
      "text/plain": [
       "<matplotlib.figure.Figure at 0x7fc779cfad90>"
      ]
     },
     "metadata": {},
     "output_type": "display_data"
    }
   ],
   "source": [
    "for y in years:\n",
    "    pos = np.diagonal(data[y]['data_all'])\n",
    "    print pos\n",
    "    plt.imshow(data[y]['data_all'])\n",
    "    plt.show()"
   ]
  },
  {
   "cell_type": "code",
   "execution_count": 50,
   "metadata": {},
   "outputs": [
    {
     "name": "stdout",
     "output_type": "stream",
     "text": [
      "664 226\n"
     ]
    },
    {
     "data": {
      "image/png": "[encoded data removed]",
      "text/plain": [
       "<matplotlib.figure.Figure at 0x7efd4c72fb90>"
      ]
     },
     "metadata": {},
     "output_type": "display_data"
    },
    {
     "name": "stdout",
     "output_type": "stream",
     "text": [
      "684 219\n"
     ]
    },
    {
     "data": {
      "image/png": "[encoded data removed]",
      "text/plain": [
       "<matplotlib.figure.Figure at 0x7efd50528d50>"
      ]
     },
     "metadata": {},
     "output_type": "display_data"
    },
    {
     "name": "stdout",
     "output_type": "stream",
     "text": [
      "712 221\n"
     ]
    },
    {
     "data": {
      "image/png": "[encoded data removed]",
      "text/plain": [
       "<matplotlib.figure.Figure at 0x7efd4c746910>"
      ]
     },
     "metadata": {},
     "output_type": "display_data"
    },
    {
     "name": "stdout",
     "output_type": "stream",
     "text": [
      "750 221\n"
     ]
    },
    {
     "data": {
      "image/png": "[encoded data removed]",
      "text/plain": [
       "<matplotlib.figure.Figure at 0x7efd52dbd390>"
      ]
     },
     "metadata": {},
     "output_type": "display_data"
    },
    {
     "name": "stdout",
     "output_type": "stream",
     "text": [
      "806 222\n"
     ]
    },
    {
     "data": {
      "image/png": "[encoded data removed]",
      "text/plain": [
       "<matplotlib.figure.Figure at 0x7efd501648d0>"
      ]
     },
     "metadata": {},
     "output_type": "display_data"
    },
    {
     "name": "stdout",
     "output_type": "stream",
     "text": [
      "976 223\n"
     ]
    },
    {
     "data": {
      "image/png": "[encoded data removed]",
      "text/plain": [
       "<matplotlib.figure.Figure at 0x7efd4bf808d0>"
      ]
     },
     "metadata": {},
     "output_type": "display_data"
    },
    {
     "name": "stdout",
     "output_type": "stream",
     "text": [
      "1082 224\n"
     ]
    },
    {
     "data": {
      "image/png": "[encoded data removed]",
      "text/plain": [
       "<matplotlib.figure.Figure at 0x7efd52d8b710>"
      ]
     },
     "metadata": {},
     "output_type": "display_data"
    },
    {
     "name": "stdout",
     "output_type": "stream",
     "text": [
      "1268 225\n"
     ]
    },
    {
     "data": {
      "image/png": "[encoded data removed]",
      "text/plain": [
       "<matplotlib.figure.Figure at 0x7efd4c6bd850>"
      ]
     },
     "metadata": {},
     "output_type": "display_data"
    },
    {
     "name": "stdout",
     "output_type": "stream",
     "text": [
      "1424 226\n"
     ]
    },
    {
     "data": {
      "image/png": "[encoded data removed]",
      "text/plain": [
       "<matplotlib.figure.Figure at 0x7efd50122410>"
      ]
     },
     "metadata": {},
     "output_type": "display_data"
    },
    {
     "name": "stdout",
     "output_type": "stream",
     "text": [
      "1558 226\n"
     ]
    },
    {
     "data": {
      "image/png": "[encoded data removed]",
      "text/plain": [
       "<matplotlib.figure.Figure at 0x7efd9f0e5e10>"
      ]
     },
     "metadata": {},
     "output_type": "display_data"
    },
    {
     "name": "stdout",
     "output_type": "stream",
     "text": [
      "1646 226\n"
     ]
    },
    {
     "data": {
      "image/png": "[encoded data removed]",
      "text/plain": [
       "<matplotlib.figure.Figure at 0x7efd4d599e90>"
      ]
     },
     "metadata": {},
     "output_type": "display_data"
    }
   ],
   "source": [
    "#PageRank centrality with igraph\n",
    "\n",
    "for y in years:\n",
    "\n",
    "\n",
    "    df_all_pairs =  [ {k:v for k,v in m.items() if v>0.0} for m in data[y]['data_all'].to_dict(orient='rows')]\n",
    "    df_all_pairs = dict(zip(data[y]['data_all'].index.values,df_all_pairs))\n",
    "    \n",
    "    G = igraph.Graph(directed=True)\n",
    "    \n",
    "    countries = list(data[y]['data_all'].index)\n",
    "    \n",
    "    for c in countries:\n",
    "        G.add_vertex(c)\n",
    "    \n",
    "    for k,v in df_all_pairs.items():\n",
    "        #print k\n",
    "        #print v\n",
    "        v.pop(k,None)\n",
    "\n",
    "        for k2,v2 in v.items():\n",
    "            G.add_edge(k, k2, weight=v2)\n",
    "                \n",
    "    print len(G.es['weight']), len(pr_all)\n",
    "    pr_all = G.personalized_pagerank(vertices=G.vs, weights=G.es[\"weight\"], directed=True) \n",
    "    #for e in G.vs:\n",
    "    #    print e\n",
    "    #print pr_all\n",
    "    \n",
    "    #print df_all_pairs\n",
    "    names = list(data[y]['data_all'])\n",
    "    #names_copy = copy.copy(names)\n",
    "    #inds = np.array(pr_all).argsort()[::-1][:]\n",
    "    #sort_names_pr = np.array(names_copy)[inds]\n",
    "    #sort_centrality_pr = np.array(pr_all)[inds]\n",
    "    #sort_names_pr, sort_centrality_pr\n",
    "    plt.plot(pr_all, \"o\")\n",
    "    plt.show()"
   ]
  },
  {
   "cell_type": "markdown",
   "metadata": {},
   "source": [
    "### Loading matrices and making projections"
   ]
  },
  {
   "cell_type": "code",
   "execution_count": 7,
   "metadata": {},
   "outputs": [],
   "source": [
    "#Extracting bipartite adj mat\n",
    "ADJ_bip_green = np.loadtxt(open(path_to_matrices + current_year + \"_green_MW.csv\", \"rb\"), delimiter=\",\", skiprows=1, \n",
    "           usecols=range(1,n_countries+1)) #getting the adjacency matrix\n",
    "ADJ_bip_blue = np.loadtxt(open(path_to_matrices + current_year + \"_blue_MW.csv\", \"rb\"), delimiter=\",\", skiprows=1, \n",
    "           usecols=range(1,n_countries+1)) #getting the adjacency matrix\n",
    "#Does the all category include the green and blue or is it just the dirty ones? In principle we would like to have \n",
    "#only the dirty ones, right?\n",
    "ADJ_bip_all = np.loadtxt(open(path_to_matrices + current_year + \"_all_MW.csv\", \"rb\"), delimiter=\",\", skiprows=1, \n",
    "           usecols=range(1,n_countries+1)) \n",
    "#To get the high emission plants we use the all matrix and remove the \"clean\" part\n",
    "ADJ_bip_dirty = ADJ_bip_all - (ADJ_bip_green + ADJ_bip_blue)\n",
    "\n",
    "\n",
    "#Making the company projection\n",
    "ADJ_comp_green =  (ADJ_bip_green/ADJ_bip_green.sum()).dot(ADJ_bip_green.T/(ADJ_bip_green.T.sum()))\n",
    "ADJ_comp_blue =  (ADJ_bip_blue/ADJ_bip_blue.sum()).dot(ADJ_bip_blue.T/(ADJ_bip_blue.T.sum()))\n",
    "ADJ_comp_all =  (ADJ_bip_all/ADJ_bip_all.sum()).dot(ADJ_bip_all.T/(ADJ_bip_all.T.sum()))\n",
    "ADJ_comp_dirty =  (ADJ_bip_dirty /ADJ_bip_dirty .sum()).dot(ADJ_bip_dirty.T/(ADJ_bip_dirty .T.sum()))\n",
    "#Making the country projection\n",
    "ADJ_country_green =  (ADJ_bip_green.T/ADJ_bip_green.T.sum()).dot(ADJ_bip_green/(ADJ_bip_green.sum()))\n",
    "ADJ_country_blue =  (ADJ_bip_blue.T/ADJ_bip_blue.T.sum()).dot(ADJ_bip_blue/(ADJ_bip_blue.sum()))\n",
    "ADJ_country_all =  (ADJ_bip_all.T/ADJ_bip_all.T.sum()).dot(ADJ_bip_all/(ADJ_bip_all.sum()))\n",
    "ADJ_country_dirty =  (ADJ_bip_dirty.T /ADJ_bip_dirty.T .sum()).dot(ADJ_bip_dirty/(ADJ_bip_dirty.sum()))\n",
    "\n",
    "#Getting the percentage of emissions of each type for each country\n",
    "green_part = [sum(ADJ_bip_green[:, i])/sum(ADJ_bip_all[:, i]) for i in range(n_countries)]\n",
    "blue_part = [sum(ADJ_bip_blue[:, i])/sum(ADJ_bip_all[:, i]) for i in range(n_countries)]\n",
    "dirty_part = [sum(ADJ_bip_dirty[:, i])/sum(ADJ_bip_all[:, i]) for i in range(n_countries)]"
   ]
  },
  {
   "cell_type": "markdown",
   "metadata": {},
   "source": [
    "# Multilayer analysis"
   ]
  },
  {
   "cell_type": "code",
   "execution_count": 8,
   "metadata": {},
   "outputs": [],
   "source": [
    "\n",
    "def make_supra_adj(ADJ_list, COUP_list):\n",
    "    \"\"\"Function that takes list of adj matrix and coupling and generates the supra adjacency matrix of the\n",
    "    multiplex network\n",
    "    Args:\n",
    "        ADJ_list: list of numpy 2D array's. Each of them is an adjacency matrix\n",
    "        COUP_list: list of numpy 1D array's. Each of them is the vector to be used for coupling the matrices\n",
    "    Return:\n",
    "        Supra Adjacency matrix. Numpy 2D array.\n",
    "    \"\"\"\n",
    "    n_layers = len(ADJ_list)\n",
    "    n_nodes = ADJ_list[0].shape[0]\n",
    "    \n",
    "    #stacking up adjacency matrix and coupling accordingly\n",
    "    sup_list = []\n",
    "    for i in range(n_layers):\n",
    "        row = []\n",
    "        for j in range(n_layers):\n",
    "            if i == j: #if in diagonal add adjacency matrix\n",
    "                row.append(ADJ_list[i])\n",
    "                #print(ADJ_list[i].shape)\n",
    "            else: #otherwise add the coupling (diagonal since multiplex network)\n",
    "                row.append(np.diag(COUP_list[i])) #if i or j here defined direction of coupling\n",
    "                #print(np.diag(COUP_list[i]).shape)\n",
    "        sup_list.append(row)\n",
    "        \n",
    "    return np.bmat(sup_list)\n",
    "    \n",
    "n_nodes = n_countries\n",
    "n_layers = 3\n",
    "#The following function is taylored for igraph centrality\n",
    "def flatten_centrality(centrality_vector, n=n_nodes, l=n_layers, names=names, hubauth=False):\n",
    "    '''Centrality networks in a Multiplex are commonly expressed as a vector of\n",
    "    nlx1 dimension. To have a centrality for each node it is important to flatten\n",
    "    the vector into nx1 dimension. Also, it is important return a list of ranked\n",
    "    nodes and another of their score.\n",
    "    Args\n",
    "    centrality_vector(numpy array): the centrality measure for each node-layer\n",
    "    n(int): number of nodes\n",
    "    l(int): number of layers\n",
    "    names(list of strings): name of nodes (countries)\n",
    "    hubauth(boolean): indicating if the centrality is hub or authority\n",
    "    Return:\n",
    "    sort_names_multi(list of strings): names of countries ordered by centrality\n",
    "    sort_centrality_multi(list of flots): sorted score of nodes\n",
    "    '''\n",
    "    multi_centrality = []\n",
    "    for i in range(n):\n",
    "        cent = 0\n",
    "        for k in range(l):\n",
    "            cent += centrality_vector[i + n*k]\n",
    "        if hubauth:\n",
    "            multi_centrality.append(cent[0])\n",
    "        else:\n",
    "            multi_centrality.append(cent)\n",
    "    node_names = np.array(copy.deepcopy(names))\n",
    "    inds = np.array(multi_centrality).argsort()[::-1][:]\n",
    "    sort_names_multi = node_names[inds]\n",
    "    sort_centrality_multi = np.array(multi_centrality)[inds]\n",
    "    \n",
    "    return sort_names_multi, sort_centrality_multi    \n"
   ]
  },
  {
   "cell_type": "code",
   "execution_count": 9,
   "metadata": {
    "collapsed": true
   },
   "outputs": [],
   "source": [
    "#Making the supra adjacency matrix\n",
    "SUPADJ_country = make_supra_adj([ADJ_country_green, ADJ_country_blue, ADJ_country_dirty], [green_part, blue_part, dirty_part]) "
   ]
  },
  {
   "cell_type": "code",
   "execution_count": 10,
   "metadata": {},
   "outputs": [],
   "source": [
    "#making the graph\n",
    "G_supra = igraph.Graph.Weighted_Adjacency( SUPADJ_country.tolist() ,mode=\"directed\") \n",
    "#computing pagerank\n",
    "pr_muliplex = G_supra.personalized_pagerank(weights=G_supra.es[\"weight\"])\n",
    "#sorting it appropriately\n",
    "pr_multiplex_sorted = flatten_centrality(pr_muliplex)"
   ]
  },
  {
   "cell_type": "code",
   "execution_count": 11,
   "metadata": {},
   "outputs": [
    {
     "data": {
      "text/plain": [
       "(array(['US', 'ES', 'MX', 'RU', 'BR', 'IE', 'GB', 'CL', 'PL', 'PT', 'AE',\n",
       "        'KR', 'AU', 'BE', 'MA', 'TR', 'MM', 'IT', 'IL', 'UY', 'FI', 'ID',\n",
       "        'PH', 'GH', 'TW', 'IQ', 'IR', 'VE', 'TH', 'VN', 'DZ', 'ET', 'CZ',\n",
       "        'AT', 'AR', 'NZ', 'UZ', 'CU', 'TM', 'SY', 'SK', 'TN', 'LV', 'AZ',\n",
       "        'IS', 'CH', 'LB', 'MK', 'BY', 'TZ', 'LT', 'EE', 'KG', 'ZM', 'RS',\n",
       "        'LK', 'KE', 'NG', 'CR', 'EG', 'MY', 'CO', 'JP', 'PK', 'GR', 'PE',\n",
       "        'HR', 'JO', 'BG', 'HU', 'BD', 'CN', 'NL', 'NO', 'DE', 'ZA', 'SE',\n",
       "        'UA', 'IN', 'RO', 'FR', 'CA', 'DK', 'SA', 'BT', 'OM', 'KW', 'LY',\n",
       "        'RE', 'SG', 'TJ', 'QA', 'BH', 'KZ', 'CD', 'AO', 'KP', 'PA', 'ZW',\n",
       "        'MZ', 'BA', 'SS', 'PG', 'SD', 'ME', 'CY', 'AL', 'GT', 'EH', 'HN',\n",
       "        'GP', 'NP', 'MQ', 'LA', 'SI', 'DO', 'MD', 'KH', 'YE', 'HT'], \n",
       "       dtype='|S2'),\n",
       " array([ 0.01086749,  0.01086593,  0.01086445,  0.01086426,  0.01086424,\n",
       "         0.01086387,  0.01086373,  0.01086346,  0.01086337,  0.01086332,\n",
       "         0.0108633 ,  0.01086329,  0.01086328,  0.01086328,  0.01086328,\n",
       "         0.01086328,  0.01086328,  0.01086327,  0.01086327,  0.01086327,\n",
       "         0.01086326,  0.01086326,  0.01086326,  0.01086326,  0.01086326,\n",
       "         0.01086326,  0.01086326,  0.01086326,  0.01086326,  0.01086326,\n",
       "         0.01086326,  0.01086326,  0.01086326,  0.01086326,  0.01086326,\n",
       "         0.01086326,  0.01086326,  0.01086326,  0.01086326,  0.01086326,\n",
       "         0.01086326,  0.01086326,  0.01086326,  0.01086326,  0.01086326,\n",
       "         0.01086326,  0.01086326,  0.01086326,  0.01086326,  0.01086326,\n",
       "         0.01086326,  0.01086326,  0.01086326,  0.01086326,  0.01086326,\n",
       "         0.01086326,  0.01086326,  0.01086326,  0.01086326,  0.01086326,\n",
       "         0.01086326,  0.01086325,  0.01086325,  0.01086324,  0.01086324,\n",
       "         0.01086323,  0.01086323,  0.01086323,  0.01086323,  0.01086321,\n",
       "         0.0108632 ,  0.0108632 ,  0.01086319,  0.01086285,  0.01086255,\n",
       "         0.01086245,  0.01086232,  0.01086226,  0.01086216,  0.01086078,\n",
       "         0.01086014,  0.01085996,  0.00323588,  0.00323587,  0.00323568,\n",
       "         0.00323541,  0.0032354 ,  0.00323538,  0.00323538,  0.00323537,\n",
       "         0.00323537,  0.00323537,  0.00323537,  0.00323537,  0.00323537,\n",
       "         0.00323536,  0.00323536,  0.00323536,  0.00323536,  0.00323536,\n",
       "         0.00323536,  0.00323536,  0.00323536,  0.00323536,  0.00323536,\n",
       "         0.00323536,  0.00323536,  0.00323536,  0.00209119,  0.00209119,\n",
       "         0.00209119,  0.00209119,  0.00209118,  0.00209118,  0.00209118,\n",
       "         0.00209118,  0.00209118,  0.00209118,  0.00209118,  0.00209118]))"
      ]
     },
     "execution_count": 11,
     "metadata": {},
     "output_type": "execute_result"
    }
   ],
   "source": [
    "pr_multiplex_sorted"
   ]
  },
  {
   "cell_type": "markdown",
   "metadata": {},
   "source": [
    "Comparing it with the aggregate pagerank centrality"
   ]
  },
  {
   "cell_type": "code",
   "execution_count": 12,
   "metadata": {},
   "outputs": [],
   "source": [
    "G_all =  igraph.Graph.Weighted_Adjacency( ADJ_all.tolist() ,mode=\"directed\")\n",
    "pr_all = G_all.personalized_pagerank(weights=G_all.es[\"weight\"])\n",
    "names_copy = copy.copy(names)\n",
    "inds = np.array(pr_all).argsort()[:]\n",
    "#If small countries are first, try including the [::-1 as below]\n",
    "#inds = np.array(pr_all).argsort()[::-1][:]\n",
    "sort_names_pr = np.array(names_copy)[inds]\n",
    "sort_centrality_pr = np.array(pr_all)[inds]"
   ]
  },
  {
   "cell_type": "code",
   "execution_count": 13,
   "metadata": {},
   "outputs": [
    {
     "data": {
      "text/plain": [
       "(array(['US', 'FR', 'BR', 'MX', 'IN', 'ES', 'PK', 'SA', 'VN', 'CL', 'GB',\n",
       "        'EG', 'CN', 'PT', 'PL', 'DE', 'ZA', 'MM', 'PE', 'CA', 'BD', 'IT',\n",
       "        'RO', 'BG', 'AE', 'RU', 'SE', 'NL', 'KZ', 'OM', 'NO', 'IL', 'ID',\n",
       "        'GH', 'JP', 'CR', 'MY', 'AU', 'TR', 'DZ', 'TJ', 'ME', 'YE', 'NZ',\n",
       "        'LV', 'CU', 'AO', 'CY', 'KP', 'PG', 'EE', 'SI', 'UZ', 'RS', 'LT',\n",
       "        'CD', 'BH', 'IS', 'KW', 'SS', 'TZ', 'CZ', 'SD', 'AL', 'AR', 'TH',\n",
       "        'SY', 'ZM', 'MK', 'CH', 'ET', 'TM', 'IR', 'MZ', 'SK', 'KG', 'MD',\n",
       "        'AT', 'BY', 'NP', 'VE', 'ZW', 'LK', 'TN', 'QA', 'AZ', 'LB', 'TW',\n",
       "        'GR', 'LY', 'IQ', 'PH', 'BA', 'SG', 'NG', 'KR', 'BE', 'CO', 'MA',\n",
       "        'HR', 'FI', 'KE', 'UY', 'UA', 'HU', 'DK', 'GT', 'IE', 'DO', 'LA',\n",
       "        'BT', 'EH', 'JO', 'HT', 'RE', 'GP', 'MQ', 'HN', 'KH', 'PA'], \n",
       "       dtype='|S2'),\n",
       " array([ 0.00208513,  0.00237654,  0.00243707,  0.00262046,  0.00292486,\n",
       "         0.00314372,  0.00330031,  0.00343078,  0.00372804,  0.00380639,\n",
       "         0.00410278,  0.00426366,  0.00444883,  0.00485509,  0.00500361,\n",
       "         0.00512598,  0.00532921,  0.00537063,  0.00593066,  0.00595195,\n",
       "         0.00602613,  0.00666319,  0.00667776,  0.00676237,  0.00725231,\n",
       "         0.00733214,  0.00740549,  0.00751934,  0.00761992,  0.00768537,\n",
       "         0.00798369,  0.00810793,  0.00811446,  0.00814203,  0.00823355,\n",
       "         0.00829766,  0.00829871,  0.00833031,  0.00833146,  0.00833333,\n",
       "         0.00833333,  0.00833333,  0.00833333,  0.00833333,  0.00833333,\n",
       "         0.00833333,  0.00833333,  0.00833333,  0.00833333,  0.00833333,\n",
       "         0.00833333,  0.00833333,  0.00833333,  0.00833333,  0.00833333,\n",
       "         0.00833333,  0.00833333,  0.00833333,  0.00833333,  0.00833333,\n",
       "         0.00833333,  0.00833333,  0.00833333,  0.00833333,  0.00833333,\n",
       "         0.00833333,  0.00833333,  0.00833333,  0.00833333,  0.00833333,\n",
       "         0.00833333,  0.00833333,  0.00833333,  0.00833333,  0.00833333,\n",
       "         0.00833333,  0.00833333,  0.00833333,  0.00833333,  0.00833333,\n",
       "         0.00833333,  0.00833333,  0.00833333,  0.00833333,  0.00833333,\n",
       "         0.00833333,  0.00833333,  0.00833357,  0.00833972,  0.00834024,\n",
       "         0.00834244,  0.00836375,  0.00837183,  0.00838496,  0.00839846,\n",
       "         0.00853772,  0.00861592,  0.00876727,  0.00877396,  0.00881904,\n",
       "         0.00897443,  0.00907096,  0.00916562,  0.00933452,  0.00978096,\n",
       "         0.00981739,  0.0109873 ,  0.01158808,  0.01165359,  0.01197522,\n",
       "         0.0124951 ,  0.01275579,  0.0159747 ,  0.01613262,  0.01656383,\n",
       "         0.01656383,  0.01656383,  0.01713745,  0.01859143,  0.01946497]))"
      ]
     },
     "execution_count": 13,
     "metadata": {},
     "output_type": "execute_result"
    }
   ],
   "source": [
    "sort_names_pr, sort_centrality_pr"
   ]
  },
  {
   "cell_type": "markdown",
   "metadata": {},
   "source": [
    "# Inconsistency between networkx and igraph?\n",
    "I tend to trust igraph more, however the discrepancy might mean that values in general are too close. Perhaps networkx power method is not converging?"
   ]
  },
  {
   "cell_type": "code",
   "execution_count": 14,
   "metadata": {},
   "outputs": [
    {
     "data": {
      "text/plain": [
       "[<matplotlib.lines.Line2D at 0x7f6c470b0090>]"
      ]
     },
     "execution_count": 14,
     "metadata": {},
     "output_type": "execute_result"
    },
    {
     "data": {
      "image/png": "[encoded data removed]",
      "text/plain": [
       "<matplotlib.figure.Figure at 0x7f6c49bde5d0>"
      ]
     },
     "metadata": {},
     "output_type": "display_data"
    }
   ],
   "source": [
    "#PageRank centrality with igraph\n",
    "G_all =  igraph.Graph.Weighted_Adjacency(ADJ_all.tolist() ,mode=\"directed\")\n",
    "pr_all = G_all.personalized_pagerank(weights=G_all.es[\"weight\"], directed=True)\n",
    "names_copy = copy.copy(names)\n",
    "#inds = np.array(pr_all).argsort()[::-1][:]\n",
    "inds = np.array(pr_all).argsort()[:]\n",
    "sort_names_pr = np.array(names_copy)[inds]\n",
    "sort_centrality_pr = np.array(pr_all)[inds]\n",
    "sort_names_pr, sort_centrality_pr\n",
    "\n",
    "#PageRank centrality with networkx\n",
    "G_all_nx = nx.from_numpy_matrix(ADJ_all)\n",
    "pr_all_nx = nx.pagerank(G_all_nx, weight=\"weight\")\n",
    "plt.plot(pr_all_nx.values(), \"o\")\n",
    "plt.plot(pr_all, \".\")"
   ]
  },
  {
   "cell_type": "code",
   "execution_count": 15,
   "metadata": {},
   "outputs": [
    {
     "data": {
      "text/plain": [
       "[<matplotlib.lines.Line2D at 0x7f6c444877d0>]"
      ]
     },
     "execution_count": 15,
     "metadata": {},
     "output_type": "execute_result"
    },
    {
     "data": {
      "image/png": "[encoded data removed]",
      "text/plain": [
       "<matplotlib.figure.Figure at 0x7f6c4704f090>"
      ]
     },
     "metadata": {},
     "output_type": "display_data"
    }
   ],
   "source": [
    "plt.plot(pr_all, pr_all_nx.values(), \"o\")"
   ]
  },
  {
   "cell_type": "code",
   "execution_count": 16,
   "metadata": {},
   "outputs": [
    {
     "name": "stdout",
     "output_type": "stream",
     "text": [
      "0 nx =  BD ig =  US\n",
      "1 nx =  CR ig =  FR\n",
      "2 nx =  JO ig =  BR\n",
      "3 nx =  UY ig =  MX\n",
      "4 nx =  LA ig =  IN\n",
      "5 nx =  CL ig =  ES\n",
      "6 nx =  PT ig =  PK\n",
      "7 nx =  KE ig =  SA\n",
      "8 nx =  PE ig =  VN\n",
      "9 nx =  MX ig =  CL\n",
      "10 nx =  MA ig =  GB\n",
      "11 nx =  SA ig =  EG\n",
      "12 nx =  RE ig =  CN\n",
      "13 nx =  FR ig =  PT\n",
      "14 nx =  OM ig =  PL\n",
      "15 nx =  EG ig =  DE\n",
      "16 nx =  BR ig =  ZA\n",
      "17 nx =  IN ig =  MM\n",
      "18 nx =  GH ig =  PE\n",
      "19 nx =  PK ig =  CA\n",
      "20 nx =  BG ig =  BD\n",
      "21 nx =  ES ig =  IT\n",
      "22 nx =  PL ig =  RO\n",
      "23 nx =  MY ig =  BG\n",
      "24 nx =  VN ig =  AE\n",
      "25 nx =  ZA ig =  RU\n",
      "26 nx =  RO ig =  SE\n",
      "27 nx =  SE ig =  NL\n",
      "28 nx =  AE ig =  KZ\n",
      "29 nx =  DE ig =  OM\n",
      "30 nx =  MM ig =  NO\n",
      "31 nx =  NO ig =  IL\n",
      "32 nx =  CN ig =  ID\n",
      "33 nx =  US ig =  GH\n",
      "34 nx =  GB ig =  JP\n",
      "35 nx =  NL ig =  CR\n",
      "36 nx =  IT ig =  MY\n",
      "37 nx =  HU ig =  AU\n",
      "38 nx =  IL ig =  TR\n",
      "39 nx =  KZ ig =  DZ\n",
      "40 nx =  RU ig =  TJ\n",
      "41 nx =  CO ig =  ME\n",
      "42 nx =  BA ig =  YE\n",
      "43 nx =  ID ig =  NZ\n",
      "44 nx =  TR ig =  LV\n",
      "45 nx =  JP ig =  CU\n",
      "46 nx =  GR ig =  AO\n",
      "47 nx =  SG ig =  CY\n",
      "48 nx =  PH ig =  KP\n",
      "49 nx =  LY ig =  PG\n",
      "50 nx =  IQ ig =  EE\n",
      "51 nx =  ZM ig =  SI\n",
      "52 nx =  MK ig =  UZ\n",
      "53 nx =  SK ig =  RS\n",
      "54 nx =  TN ig =  LT\n",
      "55 nx =  BY ig =  CD\n",
      "56 nx =  AL ig =  BH\n",
      "57 nx =  MZ ig =  IS\n",
      "58 nx =  ME ig =  KW\n",
      "59 nx =  TZ ig =  SS\n",
      "60 nx =  KP ig =  TZ\n",
      "61 nx =  AO ig =  CZ\n",
      "62 nx =  PG ig =  SD\n",
      "63 nx =  RS ig =  AL\n",
      "64 nx =  MD ig =  AR\n",
      "65 nx =  AZ ig =  TH\n",
      "66 nx =  SS ig =  SY\n",
      "67 nx =  KW ig =  ZM\n",
      "68 nx =  IS ig =  MK\n",
      "69 nx =  BH ig =  CH\n",
      "70 nx =  CD ig =  ET\n",
      "71 nx =  LT ig =  TM\n",
      "72 nx =  UZ ig =  IR\n",
      "73 nx =  SI ig =  MZ\n",
      "74 nx =  EE ig =  SK\n",
      "75 nx =  CY ig =  KG\n",
      "76 nx =  DZ ig =  MD\n",
      "77 nx =  TJ ig =  AT\n",
      "78 nx =  YE ig =  BY\n",
      "79 nx =  NZ ig =  NP\n",
      "80 nx =  LV ig =  VE\n",
      "81 nx =  CZ ig =  ZW\n",
      "82 nx =  NP ig =  LK\n",
      "83 nx =  VE ig =  TN\n",
      "84 nx =  LK ig =  QA\n",
      "85 nx =  QA ig =  AZ\n",
      "86 nx =  SD ig =  LB\n",
      "87 nx =  LB ig =  TW\n",
      "88 nx =  AT ig =  GR\n",
      "89 nx =  ZW ig =  LY\n",
      "90 nx =  KG ig =  IQ\n",
      "91 nx =  IR ig =  PH\n",
      "92 nx =  TM ig =  BA\n",
      "93 nx =  ET ig =  SG\n",
      "94 nx =  CH ig =  NG\n",
      "95 nx =  SY ig =  KR\n",
      "96 nx =  TH ig =  BE\n",
      "97 nx =  AR ig =  CO\n",
      "98 nx =  CU ig =  MA\n",
      "99 nx =  TW ig =  HR\n",
      "100 nx =  AU ig =  FI\n",
      "101 nx =  NG ig =  KE\n",
      "102 nx =  HR ig =  UY\n",
      "103 nx =  UA ig =  UA\n",
      "104 nx =  BE ig =  HU\n",
      "105 nx =  KR ig =  DK\n",
      "106 nx =  FI ig =  GT\n",
      "107 nx =  CA ig =  IE\n",
      "108 nx =  DK ig =  DO\n",
      "109 nx =  IE ig =  LA\n",
      "110 nx =  GP ig =  BT\n",
      "111 nx =  BT ig =  EH\n",
      "112 nx =  HT ig =  JO\n",
      "113 nx =  PA ig =  HT\n",
      "114 nx =  KH ig =  RE\n",
      "115 nx =  DO ig =  GP\n",
      "116 nx =  GT ig =  MQ\n",
      "117 nx =  MQ ig =  HN\n",
      "118 nx =  EH ig =  KH\n",
      "119 nx =  HN ig =  PA\n"
     ]
    }
   ],
   "source": [
    "for i in range(n_countries):\n",
    "    print i, \"nx = \", names[sorted(pr_all_nx.items(), key=lambda x:x[1])[::-1][i][0]], \"ig = \", sort_names_pr[i]"
   ]
  },
  {
   "cell_type": "code",
   "execution_count": 66,
   "metadata": {},
   "outputs": [
    {
     "data": {
      "text/plain": [
       "\"def G_list_hub(G_adj_list):\\n    '''\\n    Args(list): list of graphs adjacency matrices\\n    Return(list): list of adjacency matrices to be used in the block diagonal\\n    of the supra adjacency matrix for hub score\\n    '''\\n    G_hub = []\\n    for g in G_adj_list:\\n        new = np.dot(g, g.transpose())\\n        G_hub.append(new)\\n    return G_hub\\n\\ndef G_list_auth(G_adj_list):\\n    '''\\n    Args(list): list of graphs adjacency matrices\\n    Return(list): list of adjacency matrices to be used in the block diagonal\\n    of the supra adjacency matrix for auth score\\n    '''\\n    G_auth = []\\n    for g in G_adj_list:\\n        new = np.dot( g.transpose(), g)\\n        G_auth.append(new)\\n    return G_auth\\n\\ndef hub_auth_diag(Coup_list):\\n    coup = []\\n    for c in Coup_list:\\n        coup.append(c*c)\\n    return coup\""
      ]
     },
     "execution_count": 66,
     "metadata": {},
     "output_type": "execute_result"
    }
   ],
   "source": [
    "#If we want to do Hubs and Auth the following code will be usefull\n",
    "\"\"\"def G_list_hub(G_adj_list):\n",
    "    '''\n",
    "    Args(list): list of graphs adjacency matrices\n",
    "    Return(list): list of adjacency matrices to be used in the block diagonal\n",
    "    of the supra adjacency matrix for hub score\n",
    "    '''\n",
    "    G_hub = []\n",
    "    for g in G_adj_list:\n",
    "        new = np.dot(g, g.transpose())\n",
    "        G_hub.append(new)\n",
    "    return G_hub\n",
    "\n",
    "def G_list_auth(G_adj_list):\n",
    "    '''\n",
    "    Args(list): list of graphs adjacency matrices\n",
    "    Return(list): list of adjacency matrices to be used in the block diagonal\n",
    "    of the supra adjacency matrix for auth score\n",
    "    '''\n",
    "    G_auth = []\n",
    "    for g in G_adj_list:\n",
    "        new = np.dot( g.transpose(), g)\n",
    "        G_auth.append(new)\n",
    "    return G_auth\n",
    "\n",
    "def hub_auth_diag(Coup_list):\n",
    "    coup = []\n",
    "    for c in Coup_list:\n",
    "        coup.append(c*c)\n",
    "    return coup\"\"\"\n"
   ]
  },
  {
   "cell_type": "code",
   "execution_count": 67,
   "metadata": {},
   "outputs": [
    {
     "data": {
      "text/plain": [
       "u'0.18.1'"
      ]
     },
     "execution_count": 67,
     "metadata": {},
     "output_type": "execute_result"
    }
   ],
   "source": [
    "pd.__version__\n"
   ]
  },
  {
   "cell_type": "code",
   "execution_count": null,
   "metadata": {
    "collapsed": true
   },
   "outputs": [],
   "source": []
  }
 ],
 "metadata": {
  "kernelspec": {
   "display_name": "Python (py2)",
   "language": "python",
   "name": "py2"
  },
  "language_info": {
   "codemirror_mode": {
    "name": "ipython",
    "version": 2
   },
   "file_extension": ".py",
   "mimetype": "text/x-python",
   "name": "python",
   "nbconvert_exporter": "python",
   "pygments_lexer": "ipython2",
   "version": "2.7.14"
  }
 },
 "nbformat": 4,
 "nbformat_minor": 1
}
